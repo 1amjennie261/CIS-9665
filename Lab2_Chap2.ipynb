{
  "cells": [
    {
      "cell_type": "markdown",
      "metadata": {
        "id": "view-in-github",
        "colab_type": "text"
      },
      "source": [
        "<a href=\"https://colab.research.google.com/github/1amjennie261/CIS-9665/blob/main/Lab2_Chap2.ipynb\" target=\"_parent\"><img src=\"https://colab.research.google.com/assets/colab-badge.svg\" alt=\"Open In Colab\"/></a>"
      ]
    },
    {
      "cell_type": "markdown",
      "metadata": {
        "id": "AjRzl7AwaobQ"
      },
      "source": [
        "### The following codes are from Natural Language Processing with Python, By Steven Bird, Ewan Klein, and Edward Loper. O' Reilly Media, 978-0-596-51649-9"
      ]
    },
    {
      "cell_type": "markdown",
      "metadata": {
        "id": "6sBaXeWgaobR"
      },
      "source": [
        "## 1   Accessing Text Corpora"
      ]
    },
    {
      "cell_type": "markdown",
      "metadata": {
        "id": "sG8rS88caobR"
      },
      "source": [
        "### 1.1 Gutenberg Corpus"
      ]
    },
    {
      "cell_type": "markdown",
      "metadata": {
        "id": "Z8gTBzGiaobR"
      },
      "source": [
        "#### NLTK includes a small selection of texts from the Project Gutenberg electronic text archive, which contains some 70,000 free electronic books, hosted at http://www.gutenberg.org/."
      ]
    },
    {
      "cell_type": "code",
      "execution_count": null,
      "metadata": {
        "id": "AJpsOxQOaobS"
      },
      "outputs": [],
      "source": [
        "import nltk"
      ]
    },
    {
      "cell_type": "code",
      "source": [
        "nltk.download(\"all\")"
      ],
      "metadata": {
        "colab": {
          "base_uri": "https://localhost:8080/"
        },
        "id": "gDjeVnsFbQtV",
        "outputId": "d624a790-516c-4617-e169-2f9e9557dad1"
      },
      "execution_count": null,
      "outputs": [
        {
          "output_type": "stream",
          "name": "stderr",
          "text": [
            "[nltk_data] Downloading collection 'all'\n",
            "[nltk_data]    | \n",
            "[nltk_data]    | Downloading package abc to /root/nltk_data...\n",
            "[nltk_data]    |   Unzipping corpora/abc.zip.\n",
            "[nltk_data]    | Downloading package alpino to /root/nltk_data...\n",
            "[nltk_data]    |   Unzipping corpora/alpino.zip.\n",
            "[nltk_data]    | Downloading package averaged_perceptron_tagger to\n",
            "[nltk_data]    |     /root/nltk_data...\n",
            "[nltk_data]    |   Unzipping taggers/averaged_perceptron_tagger.zip.\n",
            "[nltk_data]    | Downloading package averaged_perceptron_tagger_eng to\n",
            "[nltk_data]    |     /root/nltk_data...\n",
            "[nltk_data]    |   Unzipping\n",
            "[nltk_data]    |       taggers/averaged_perceptron_tagger_eng.zip.\n",
            "[nltk_data]    | Downloading package averaged_perceptron_tagger_ru to\n",
            "[nltk_data]    |     /root/nltk_data...\n",
            "[nltk_data]    |   Unzipping\n",
            "[nltk_data]    |       taggers/averaged_perceptron_tagger_ru.zip.\n",
            "[nltk_data]    | Downloading package averaged_perceptron_tagger_rus to\n",
            "[nltk_data]    |     /root/nltk_data...\n",
            "[nltk_data]    |   Unzipping\n",
            "[nltk_data]    |       taggers/averaged_perceptron_tagger_rus.zip.\n",
            "[nltk_data]    | Downloading package basque_grammars to\n",
            "[nltk_data]    |     /root/nltk_data...\n",
            "[nltk_data]    |   Unzipping grammars/basque_grammars.zip.\n",
            "[nltk_data]    | Downloading package bcp47 to /root/nltk_data...\n",
            "[nltk_data]    | Downloading package biocreative_ppi to\n",
            "[nltk_data]    |     /root/nltk_data...\n",
            "[nltk_data]    |   Unzipping corpora/biocreative_ppi.zip.\n",
            "[nltk_data]    | Downloading package bllip_wsj_no_aux to\n",
            "[nltk_data]    |     /root/nltk_data...\n",
            "[nltk_data]    |   Unzipping models/bllip_wsj_no_aux.zip.\n",
            "[nltk_data]    | Downloading package book_grammars to\n",
            "[nltk_data]    |     /root/nltk_data...\n",
            "[nltk_data]    |   Unzipping grammars/book_grammars.zip.\n",
            "[nltk_data]    | Downloading package brown to /root/nltk_data...\n",
            "[nltk_data]    |   Unzipping corpora/brown.zip.\n",
            "[nltk_data]    | Downloading package brown_tei to /root/nltk_data...\n",
            "[nltk_data]    |   Unzipping corpora/brown_tei.zip.\n",
            "[nltk_data]    | Downloading package cess_cat to /root/nltk_data...\n",
            "[nltk_data]    |   Unzipping corpora/cess_cat.zip.\n",
            "[nltk_data]    | Downloading package cess_esp to /root/nltk_data...\n",
            "[nltk_data]    |   Unzipping corpora/cess_esp.zip.\n",
            "[nltk_data]    | Downloading package chat80 to /root/nltk_data...\n",
            "[nltk_data]    |   Unzipping corpora/chat80.zip.\n",
            "[nltk_data]    | Downloading package city_database to\n",
            "[nltk_data]    |     /root/nltk_data...\n",
            "[nltk_data]    |   Unzipping corpora/city_database.zip.\n",
            "[nltk_data]    | Downloading package cmudict to /root/nltk_data...\n",
            "[nltk_data]    |   Unzipping corpora/cmudict.zip.\n",
            "[nltk_data]    | Downloading package comparative_sentences to\n",
            "[nltk_data]    |     /root/nltk_data...\n",
            "[nltk_data]    |   Unzipping corpora/comparative_sentences.zip.\n",
            "[nltk_data]    | Downloading package comtrans to /root/nltk_data...\n",
            "[nltk_data]    | Downloading package conll2000 to /root/nltk_data...\n",
            "[nltk_data]    |   Unzipping corpora/conll2000.zip.\n",
            "[nltk_data]    | Downloading package conll2002 to /root/nltk_data...\n",
            "[nltk_data]    |   Unzipping corpora/conll2002.zip.\n",
            "[nltk_data]    | Downloading package conll2007 to /root/nltk_data...\n",
            "[nltk_data]    | Downloading package crubadan to /root/nltk_data...\n",
            "[nltk_data]    |   Unzipping corpora/crubadan.zip.\n",
            "[nltk_data]    | Downloading package dependency_treebank to\n",
            "[nltk_data]    |     /root/nltk_data...\n",
            "[nltk_data]    |   Unzipping corpora/dependency_treebank.zip.\n",
            "[nltk_data]    | Downloading package dolch to /root/nltk_data...\n",
            "[nltk_data]    |   Unzipping corpora/dolch.zip.\n",
            "[nltk_data]    | Downloading package europarl_raw to\n",
            "[nltk_data]    |     /root/nltk_data...\n",
            "[nltk_data]    |   Unzipping corpora/europarl_raw.zip.\n",
            "[nltk_data]    | Downloading package extended_omw to\n",
            "[nltk_data]    |     /root/nltk_data...\n",
            "[nltk_data]    | Downloading package floresta to /root/nltk_data...\n",
            "[nltk_data]    |   Unzipping corpora/floresta.zip.\n",
            "[nltk_data]    | Downloading package framenet_v15 to\n",
            "[nltk_data]    |     /root/nltk_data...\n",
            "[nltk_data]    |   Unzipping corpora/framenet_v15.zip.\n",
            "[nltk_data]    | Downloading package framenet_v17 to\n",
            "[nltk_data]    |     /root/nltk_data...\n",
            "[nltk_data]    |   Unzipping corpora/framenet_v17.zip.\n",
            "[nltk_data]    | Downloading package gazetteers to /root/nltk_data...\n",
            "[nltk_data]    |   Unzipping corpora/gazetteers.zip.\n",
            "[nltk_data]    | Downloading package genesis to /root/nltk_data...\n",
            "[nltk_data]    |   Unzipping corpora/genesis.zip.\n",
            "[nltk_data]    | Downloading package gutenberg to /root/nltk_data...\n",
            "[nltk_data]    |   Unzipping corpora/gutenberg.zip.\n",
            "[nltk_data]    | Downloading package ieer to /root/nltk_data...\n",
            "[nltk_data]    |   Unzipping corpora/ieer.zip.\n",
            "[nltk_data]    | Downloading package inaugural to /root/nltk_data...\n",
            "[nltk_data]    |   Unzipping corpora/inaugural.zip.\n",
            "[nltk_data]    | Downloading package indian to /root/nltk_data...\n",
            "[nltk_data]    |   Unzipping corpora/indian.zip.\n",
            "[nltk_data]    | Downloading package jeita to /root/nltk_data...\n",
            "[nltk_data]    | Downloading package kimmo to /root/nltk_data...\n",
            "[nltk_data]    |   Unzipping corpora/kimmo.zip.\n",
            "[nltk_data]    | Downloading package knbc to /root/nltk_data...\n",
            "[nltk_data]    | Downloading package large_grammars to\n",
            "[nltk_data]    |     /root/nltk_data...\n",
            "[nltk_data]    |   Unzipping grammars/large_grammars.zip.\n",
            "[nltk_data]    | Downloading package lin_thesaurus to\n",
            "[nltk_data]    |     /root/nltk_data...\n",
            "[nltk_data]    |   Unzipping corpora/lin_thesaurus.zip.\n",
            "[nltk_data]    | Downloading package mac_morpho to /root/nltk_data...\n",
            "[nltk_data]    |   Unzipping corpora/mac_morpho.zip.\n",
            "[nltk_data]    | Downloading package machado to /root/nltk_data...\n",
            "[nltk_data]    | Downloading package masc_tagged to /root/nltk_data...\n",
            "[nltk_data]    | Downloading package maxent_ne_chunker to\n",
            "[nltk_data]    |     /root/nltk_data...\n",
            "[nltk_data]    |   Unzipping chunkers/maxent_ne_chunker.zip.\n",
            "[nltk_data]    | Downloading package maxent_ne_chunker_tab to\n",
            "[nltk_data]    |     /root/nltk_data...\n",
            "[nltk_data]    |   Unzipping chunkers/maxent_ne_chunker_tab.zip.\n",
            "[nltk_data]    | Downloading package maxent_treebank_pos_tagger to\n",
            "[nltk_data]    |     /root/nltk_data...\n",
            "[nltk_data]    |   Unzipping taggers/maxent_treebank_pos_tagger.zip.\n",
            "[nltk_data]    | Downloading package maxent_treebank_pos_tagger_tab to\n",
            "[nltk_data]    |     /root/nltk_data...\n",
            "[nltk_data]    |   Unzipping\n",
            "[nltk_data]    |       taggers/maxent_treebank_pos_tagger_tab.zip.\n",
            "[nltk_data]    | Downloading package moses_sample to\n",
            "[nltk_data]    |     /root/nltk_data...\n",
            "[nltk_data]    |   Unzipping models/moses_sample.zip.\n",
            "[nltk_data]    | Downloading package movie_reviews to\n",
            "[nltk_data]    |     /root/nltk_data...\n",
            "[nltk_data]    |   Unzipping corpora/movie_reviews.zip.\n",
            "[nltk_data]    | Downloading package mte_teip5 to /root/nltk_data...\n",
            "[nltk_data]    |   Unzipping corpora/mte_teip5.zip.\n",
            "[nltk_data]    | Downloading package mwa_ppdb to /root/nltk_data...\n",
            "[nltk_data]    |   Unzipping misc/mwa_ppdb.zip.\n",
            "[nltk_data]    | Downloading package names to /root/nltk_data...\n",
            "[nltk_data]    |   Unzipping corpora/names.zip.\n",
            "[nltk_data]    | Downloading package nombank.1.0 to /root/nltk_data...\n",
            "[nltk_data]    | Downloading package nonbreaking_prefixes to\n",
            "[nltk_data]    |     /root/nltk_data...\n",
            "[nltk_data]    |   Unzipping corpora/nonbreaking_prefixes.zip.\n",
            "[nltk_data]    | Downloading package nps_chat to /root/nltk_data...\n",
            "[nltk_data]    |   Unzipping corpora/nps_chat.zip.\n",
            "[nltk_data]    | Downloading package omw to /root/nltk_data...\n",
            "[nltk_data]    | Downloading package omw-1.4 to /root/nltk_data...\n",
            "[nltk_data]    | Downloading package opinion_lexicon to\n",
            "[nltk_data]    |     /root/nltk_data...\n",
            "[nltk_data]    |   Unzipping corpora/opinion_lexicon.zip.\n",
            "[nltk_data]    | Downloading package panlex_swadesh to\n",
            "[nltk_data]    |     /root/nltk_data...\n",
            "[nltk_data]    | Downloading package paradigms to /root/nltk_data...\n",
            "[nltk_data]    |   Unzipping corpora/paradigms.zip.\n",
            "[nltk_data]    | Downloading package pe08 to /root/nltk_data...\n",
            "[nltk_data]    |   Unzipping corpora/pe08.zip.\n",
            "[nltk_data]    | Downloading package perluniprops to\n",
            "[nltk_data]    |     /root/nltk_data...\n",
            "[nltk_data]    |   Unzipping misc/perluniprops.zip.\n",
            "[nltk_data]    | Downloading package pil to /root/nltk_data...\n",
            "[nltk_data]    |   Unzipping corpora/pil.zip.\n",
            "[nltk_data]    | Downloading package pl196x to /root/nltk_data...\n",
            "[nltk_data]    |   Unzipping corpora/pl196x.zip.\n",
            "[nltk_data]    | Downloading package porter_test to /root/nltk_data...\n",
            "[nltk_data]    |   Unzipping stemmers/porter_test.zip.\n",
            "[nltk_data]    | Downloading package ppattach to /root/nltk_data...\n",
            "[nltk_data]    |   Unzipping corpora/ppattach.zip.\n",
            "[nltk_data]    | Downloading package problem_reports to\n",
            "[nltk_data]    |     /root/nltk_data...\n",
            "[nltk_data]    |   Unzipping corpora/problem_reports.zip.\n",
            "[nltk_data]    | Downloading package product_reviews_1 to\n",
            "[nltk_data]    |     /root/nltk_data...\n",
            "[nltk_data]    |   Unzipping corpora/product_reviews_1.zip.\n",
            "[nltk_data]    | Downloading package product_reviews_2 to\n",
            "[nltk_data]    |     /root/nltk_data...\n",
            "[nltk_data]    |   Unzipping corpora/product_reviews_2.zip.\n",
            "[nltk_data]    | Downloading package propbank to /root/nltk_data...\n",
            "[nltk_data]    | Downloading package pros_cons to /root/nltk_data...\n",
            "[nltk_data]    |   Unzipping corpora/pros_cons.zip.\n",
            "[nltk_data]    | Downloading package ptb to /root/nltk_data...\n",
            "[nltk_data]    |   Unzipping corpora/ptb.zip.\n",
            "[nltk_data]    | Downloading package punkt to /root/nltk_data...\n",
            "[nltk_data]    |   Unzipping tokenizers/punkt.zip.\n",
            "[nltk_data]    | Downloading package punkt_tab to /root/nltk_data...\n",
            "[nltk_data]    |   Unzipping tokenizers/punkt_tab.zip.\n",
            "[nltk_data]    | Downloading package qc to /root/nltk_data...\n",
            "[nltk_data]    |   Unzipping corpora/qc.zip.\n",
            "[nltk_data]    | Downloading package reuters to /root/nltk_data...\n",
            "[nltk_data]    | Downloading package rslp to /root/nltk_data...\n",
            "[nltk_data]    |   Unzipping stemmers/rslp.zip.\n",
            "[nltk_data]    | Downloading package rte to /root/nltk_data...\n",
            "[nltk_data]    |   Unzipping corpora/rte.zip.\n",
            "[nltk_data]    | Downloading package sample_grammars to\n",
            "[nltk_data]    |     /root/nltk_data...\n",
            "[nltk_data]    |   Unzipping grammars/sample_grammars.zip.\n",
            "[nltk_data]    | Downloading package semcor to /root/nltk_data...\n",
            "[nltk_data]    | Downloading package senseval to /root/nltk_data...\n",
            "[nltk_data]    |   Unzipping corpora/senseval.zip.\n",
            "[nltk_data]    | Downloading package sentence_polarity to\n",
            "[nltk_data]    |     /root/nltk_data...\n",
            "[nltk_data]    |   Unzipping corpora/sentence_polarity.zip.\n",
            "[nltk_data]    | Downloading package sentiwordnet to\n",
            "[nltk_data]    |     /root/nltk_data...\n",
            "[nltk_data]    |   Unzipping corpora/sentiwordnet.zip.\n",
            "[nltk_data]    | Downloading package shakespeare to /root/nltk_data...\n",
            "[nltk_data]    |   Unzipping corpora/shakespeare.zip.\n",
            "[nltk_data]    | Downloading package sinica_treebank to\n",
            "[nltk_data]    |     /root/nltk_data...\n",
            "[nltk_data]    |   Unzipping corpora/sinica_treebank.zip.\n",
            "[nltk_data]    | Downloading package smultron to /root/nltk_data...\n",
            "[nltk_data]    |   Unzipping corpora/smultron.zip.\n",
            "[nltk_data]    | Downloading package snowball_data to\n",
            "[nltk_data]    |     /root/nltk_data...\n",
            "[nltk_data]    | Downloading package spanish_grammars to\n",
            "[nltk_data]    |     /root/nltk_data...\n",
            "[nltk_data]    |   Unzipping grammars/spanish_grammars.zip.\n",
            "[nltk_data]    | Downloading package state_union to /root/nltk_data...\n",
            "[nltk_data]    |   Unzipping corpora/state_union.zip.\n",
            "[nltk_data]    | Downloading package stopwords to /root/nltk_data...\n",
            "[nltk_data]    |   Unzipping corpora/stopwords.zip.\n",
            "[nltk_data]    | Downloading package subjectivity to\n",
            "[nltk_data]    |     /root/nltk_data...\n",
            "[nltk_data]    |   Unzipping corpora/subjectivity.zip.\n",
            "[nltk_data]    | Downloading package swadesh to /root/nltk_data...\n",
            "[nltk_data]    |   Unzipping corpora/swadesh.zip.\n",
            "[nltk_data]    | Downloading package switchboard to /root/nltk_data...\n",
            "[nltk_data]    |   Unzipping corpora/switchboard.zip.\n",
            "[nltk_data]    | Downloading package tagsets to /root/nltk_data...\n",
            "[nltk_data]    |   Unzipping help/tagsets.zip.\n",
            "[nltk_data]    | Downloading package tagsets_json to\n",
            "[nltk_data]    |     /root/nltk_data...\n",
            "[nltk_data]    |   Unzipping help/tagsets_json.zip.\n",
            "[nltk_data]    | Downloading package timit to /root/nltk_data...\n",
            "[nltk_data]    |   Unzipping corpora/timit.zip.\n",
            "[nltk_data]    | Downloading package toolbox to /root/nltk_data...\n",
            "[nltk_data]    |   Unzipping corpora/toolbox.zip.\n",
            "[nltk_data]    | Downloading package treebank to /root/nltk_data...\n",
            "[nltk_data]    |   Unzipping corpora/treebank.zip.\n",
            "[nltk_data]    | Downloading package twitter_samples to\n",
            "[nltk_data]    |     /root/nltk_data...\n",
            "[nltk_data]    |   Unzipping corpora/twitter_samples.zip.\n",
            "[nltk_data]    | Downloading package udhr to /root/nltk_data...\n",
            "[nltk_data]    |   Unzipping corpora/udhr.zip.\n",
            "[nltk_data]    | Downloading package udhr2 to /root/nltk_data...\n",
            "[nltk_data]    |   Unzipping corpora/udhr2.zip.\n",
            "[nltk_data]    | Downloading package unicode_samples to\n",
            "[nltk_data]    |     /root/nltk_data...\n",
            "[nltk_data]    |   Unzipping corpora/unicode_samples.zip.\n",
            "[nltk_data]    | Downloading package universal_tagset to\n",
            "[nltk_data]    |     /root/nltk_data...\n",
            "[nltk_data]    |   Unzipping taggers/universal_tagset.zip.\n",
            "[nltk_data]    | Downloading package universal_treebanks_v20 to\n",
            "[nltk_data]    |     /root/nltk_data...\n",
            "[nltk_data]    | Downloading package vader_lexicon to\n",
            "[nltk_data]    |     /root/nltk_data...\n",
            "[nltk_data]    | Downloading package verbnet to /root/nltk_data...\n",
            "[nltk_data]    |   Unzipping corpora/verbnet.zip.\n",
            "[nltk_data]    | Downloading package verbnet3 to /root/nltk_data...\n",
            "[nltk_data]    |   Unzipping corpora/verbnet3.zip.\n",
            "[nltk_data]    | Downloading package webtext to /root/nltk_data...\n",
            "[nltk_data]    |   Unzipping corpora/webtext.zip.\n",
            "[nltk_data]    | Downloading package wmt15_eval to /root/nltk_data...\n",
            "[nltk_data]    |   Unzipping models/wmt15_eval.zip.\n",
            "[nltk_data]    | Downloading package word2vec_sample to\n",
            "[nltk_data]    |     /root/nltk_data...\n",
            "[nltk_data]    |   Unzipping models/word2vec_sample.zip.\n",
            "[nltk_data]    | Downloading package wordnet to /root/nltk_data...\n",
            "[nltk_data]    | Downloading package wordnet2021 to /root/nltk_data...\n",
            "[nltk_data]    | Downloading package wordnet2022 to /root/nltk_data...\n",
            "[nltk_data]    |   Unzipping corpora/wordnet2022.zip.\n",
            "[nltk_data]    | Downloading package wordnet31 to /root/nltk_data...\n",
            "[nltk_data]    | Downloading package wordnet_ic to /root/nltk_data...\n",
            "[nltk_data]    |   Unzipping corpora/wordnet_ic.zip.\n",
            "[nltk_data]    | Downloading package words to /root/nltk_data...\n",
            "[nltk_data]    |   Unzipping corpora/words.zip.\n",
            "[nltk_data]    | Downloading package ycoe to /root/nltk_data...\n",
            "[nltk_data]    |   Unzipping corpora/ycoe.zip.\n",
            "[nltk_data]    | \n",
            "[nltk_data]  Done downloading collection all\n"
          ]
        },
        {
          "output_type": "execute_result",
          "data": {
            "text/plain": [
              "True"
            ]
          },
          "metadata": {},
          "execution_count": 5
        }
      ]
    },
    {
      "cell_type": "code",
      "execution_count": null,
      "metadata": {
        "scrolled": true,
        "colab": {
          "base_uri": "https://localhost:8080/"
        },
        "id": "llEI3Ac0aobS",
        "outputId": "65ee2531-6752-4bbc-bace-b9b38db65804"
      },
      "outputs": [
        {
          "output_type": "execute_result",
          "data": {
            "text/plain": [
              "['austen-emma.txt',\n",
              " 'austen-persuasion.txt',\n",
              " 'austen-sense.txt',\n",
              " 'bible-kjv.txt',\n",
              " 'blake-poems.txt',\n",
              " 'bryant-stories.txt',\n",
              " 'burgess-busterbrown.txt',\n",
              " 'carroll-alice.txt',\n",
              " 'chesterton-ball.txt',\n",
              " 'chesterton-brown.txt',\n",
              " 'chesterton-thursday.txt',\n",
              " 'edgeworth-parents.txt',\n",
              " 'melville-moby_dick.txt',\n",
              " 'milton-paradise.txt',\n",
              " 'shakespeare-caesar.txt',\n",
              " 'shakespeare-hamlet.txt',\n",
              " 'shakespeare-macbeth.txt',\n",
              " 'whitman-leaves.txt']"
            ]
          },
          "metadata": {},
          "execution_count": 7
        }
      ],
      "source": [
        "nltk.corpus.gutenberg.fileids()"
      ]
    },
    {
      "cell_type": "markdown",
      "metadata": {
        "id": "jPWWYTTjaobT"
      },
      "source": [
        "#### Let's pick out the first of these texts — Emma by Jane Austen — and give it a short name, emma, then find out how many words it contains:"
      ]
    },
    {
      "cell_type": "code",
      "execution_count": null,
      "metadata": {
        "id": "pX8HUKCbaobT"
      },
      "outputs": [],
      "source": [
        "emma = nltk.corpus.gutenberg.words('austen-emma.txt')"
      ]
    },
    {
      "cell_type": "code",
      "execution_count": null,
      "metadata": {
        "colab": {
          "base_uri": "https://localhost:8080/"
        },
        "id": "zBUkG4nZaobU",
        "outputId": "a32077a9-32e1-4284-c8aa-6a4fdfcab60f"
      },
      "outputs": [
        {
          "output_type": "execute_result",
          "data": {
            "text/plain": [
              "['[',\n",
              " 'Emma',\n",
              " 'by',\n",
              " 'Jane',\n",
              " 'Austen',\n",
              " '1816',\n",
              " ']',\n",
              " 'VOLUME',\n",
              " 'I',\n",
              " 'CHAPTER',\n",
              " 'I',\n",
              " 'Emma',\n",
              " 'Woodhouse',\n",
              " ',',\n",
              " 'handsome',\n",
              " ',',\n",
              " 'clever',\n",
              " ',',\n",
              " 'and',\n",
              " 'rich',\n",
              " ',',\n",
              " 'with',\n",
              " 'a',\n",
              " 'comfortable',\n",
              " 'home',\n",
              " 'and',\n",
              " 'happy',\n",
              " 'disposition',\n",
              " ',',\n",
              " 'seemed',\n",
              " 'to',\n",
              " 'unite',\n",
              " 'some',\n",
              " 'of',\n",
              " 'the',\n",
              " 'best',\n",
              " 'blessings',\n",
              " 'of',\n",
              " 'existence',\n",
              " ';',\n",
              " 'and',\n",
              " 'had',\n",
              " 'lived',\n",
              " 'nearly',\n",
              " 'twenty',\n",
              " '-',\n",
              " 'one',\n",
              " 'years',\n",
              " 'in',\n",
              " 'the',\n",
              " 'world',\n",
              " 'with',\n",
              " 'very',\n",
              " 'little',\n",
              " 'to',\n",
              " 'distress',\n",
              " 'or',\n",
              " 'vex',\n",
              " 'her',\n",
              " '.',\n",
              " 'She',\n",
              " 'was',\n",
              " 'the',\n",
              " 'youngest',\n",
              " 'of',\n",
              " 'the',\n",
              " 'two',\n",
              " 'daughters',\n",
              " 'of',\n",
              " 'a',\n",
              " 'most',\n",
              " 'affectionate',\n",
              " ',',\n",
              " 'indulgent',\n",
              " 'father',\n",
              " ';',\n",
              " 'and',\n",
              " 'had',\n",
              " ',',\n",
              " 'in',\n",
              " 'consequence',\n",
              " 'of',\n",
              " 'her',\n",
              " 'sister',\n",
              " \"'\",\n",
              " 's',\n",
              " 'marriage',\n",
              " ',',\n",
              " 'been',\n",
              " 'mistress',\n",
              " 'of',\n",
              " 'his',\n",
              " 'house',\n",
              " 'from',\n",
              " 'a',\n",
              " 'very',\n",
              " 'early',\n",
              " 'period',\n",
              " '.',\n",
              " 'Her']"
            ]
          },
          "metadata": {},
          "execution_count": 9
        }
      ],
      "source": [
        "emma[0:100]"
      ]
    },
    {
      "cell_type": "code",
      "execution_count": null,
      "metadata": {
        "colab": {
          "base_uri": "https://localhost:8080/"
        },
        "id": "ZFjbwQMfaobU",
        "outputId": "956e7efe-61b5-42d4-d189-adc9029acaf9"
      },
      "outputs": [
        {
          "output_type": "execute_result",
          "data": {
            "text/plain": [
              "192427"
            ]
          },
          "metadata": {},
          "execution_count": 10
        }
      ],
      "source": [
        "len(emma)"
      ]
    },
    {
      "cell_type": "markdown",
      "metadata": {
        "id": "9KKt03VOaobU"
      },
      "source": [
        "#### When we defined emma, we invoked the words() function of the gutenberg object in NLTK's corpus package. But since it is cumbersome to type such long names all the time, Python provides another version of the import statement, as follows"
      ]
    },
    {
      "cell_type": "code",
      "execution_count": null,
      "metadata": {
        "id": "Cl3yG6_kaobU"
      },
      "outputs": [],
      "source": [
        "from nltk.corpus import gutenberg"
      ]
    },
    {
      "cell_type": "code",
      "execution_count": null,
      "metadata": {
        "scrolled": true,
        "colab": {
          "base_uri": "https://localhost:8080/"
        },
        "id": "8NUes0FZaobU",
        "outputId": "de9f7653-384b-492d-d749-f0cd98ce0cfa"
      },
      "outputs": [
        {
          "output_type": "execute_result",
          "data": {
            "text/plain": [
              "['austen-emma.txt',\n",
              " 'austen-persuasion.txt',\n",
              " 'austen-sense.txt',\n",
              " 'bible-kjv.txt',\n",
              " 'blake-poems.txt',\n",
              " 'bryant-stories.txt',\n",
              " 'burgess-busterbrown.txt',\n",
              " 'carroll-alice.txt',\n",
              " 'chesterton-ball.txt',\n",
              " 'chesterton-brown.txt',\n",
              " 'chesterton-thursday.txt',\n",
              " 'edgeworth-parents.txt',\n",
              " 'melville-moby_dick.txt',\n",
              " 'milton-paradise.txt',\n",
              " 'shakespeare-caesar.txt',\n",
              " 'shakespeare-hamlet.txt',\n",
              " 'shakespeare-macbeth.txt',\n",
              " 'whitman-leaves.txt']"
            ]
          },
          "metadata": {},
          "execution_count": 12
        }
      ],
      "source": [
        "gutenberg.fileids()"
      ]
    },
    {
      "cell_type": "markdown",
      "metadata": {
        "id": "rUhZ-QUFaobU"
      },
      "source": [
        "#### See the specific content in each text"
      ]
    },
    {
      "cell_type": "code",
      "execution_count": null,
      "metadata": {
        "scrolled": true,
        "colab": {
          "base_uri": "https://localhost:8080/"
        },
        "id": "LsK4RzMYaobU",
        "outputId": "9c536559-fc63-4970-fa6d-02be3a10fb0e"
      },
      "outputs": [
        {
          "output_type": "execute_result",
          "data": {
            "text/plain": [
              "<PlaintextCorpusReader in '/root/nltk_data/corpora/gutenberg'>"
            ]
          },
          "metadata": {},
          "execution_count": 13
        }
      ],
      "source": [
        "gutenberg"
      ]
    },
    {
      "cell_type": "markdown",
      "metadata": {
        "id": "LNDaB7NeaobV"
      },
      "source": [
        "#### Follow your own path, find gutenbreg corpus in your local computer"
      ]
    },
    {
      "cell_type": "code",
      "execution_count": null,
      "metadata": {
        "id": "QBAejua-aobV"
      },
      "outputs": [],
      "source": [
        "emma=gutenberg.words('austen-emma.txt')"
      ]
    },
    {
      "cell_type": "code",
      "execution_count": null,
      "metadata": {
        "id": "-c6Qye4VaobV"
      },
      "outputs": [],
      "source": [
        "# a list of tokens in this text"
      ]
    },
    {
      "cell_type": "code",
      "execution_count": null,
      "metadata": {
        "scrolled": true,
        "colab": {
          "base_uri": "https://localhost:8080/"
        },
        "id": "TVYJXJJVaobV",
        "outputId": "f6a0ea68-8369-4dba-fd20-06da8d2da00e"
      },
      "outputs": [
        {
          "output_type": "execute_result",
          "data": {
            "text/plain": [
              "['[',\n",
              " 'Emma',\n",
              " 'by',\n",
              " 'Jane',\n",
              " 'Austen',\n",
              " '1816',\n",
              " ']',\n",
              " 'VOLUME',\n",
              " 'I',\n",
              " 'CHAPTER',\n",
              " 'I',\n",
              " 'Emma',\n",
              " 'Woodhouse',\n",
              " ',',\n",
              " 'handsome',\n",
              " ',',\n",
              " 'clever',\n",
              " ',',\n",
              " 'and',\n",
              " 'rich']"
            ]
          },
          "metadata": {},
          "execution_count": 15
        }
      ],
      "source": [
        "emma[0:20]"
      ]
    },
    {
      "cell_type": "code",
      "execution_count": null,
      "metadata": {
        "id": "UmXWyCC2aobV"
      },
      "outputs": [],
      "source": [
        "emma=gutenberg.raw('austen-emma.txt')"
      ]
    },
    {
      "cell_type": "code",
      "execution_count": null,
      "metadata": {
        "id": "AX45vKwWaobV"
      },
      "outputs": [],
      "source": [
        "# raw: a string of characters in this text"
      ]
    },
    {
      "cell_type": "code",
      "execution_count": null,
      "metadata": {
        "colab": {
          "base_uri": "https://localhost:8080/",
          "height": 35
        },
        "id": "rETJxS9XaobV",
        "outputId": "3f860cc8-fa32-4c01-84ab-8aa472d1dda7"
      },
      "outputs": [
        {
          "output_type": "execute_result",
          "data": {
            "text/plain": [
              "'[Emma by Jane Austen'"
            ],
            "application/vnd.google.colaboratory.intrinsic+json": {
              "type": "string"
            }
          },
          "metadata": {},
          "execution_count": 18
        }
      ],
      "source": [
        "emma[0:20]"
      ]
    },
    {
      "cell_type": "code",
      "execution_count": null,
      "metadata": {
        "id": "BI8ZdaC6aobV"
      },
      "outputs": [],
      "source": [
        "emma=gutenberg.sents('austen-emma.txt')"
      ]
    },
    {
      "cell_type": "code",
      "execution_count": null,
      "metadata": {
        "scrolled": false,
        "colab": {
          "base_uri": "https://localhost:8080/"
        },
        "id": "5qBQi_uBaobV",
        "outputId": "560138cd-fec7-4617-e5b9-51b8f8a10595"
      },
      "outputs": [
        {
          "output_type": "execute_result",
          "data": {
            "text/plain": [
              "[['She',\n",
              "  'was',\n",
              "  'the',\n",
              "  'youngest',\n",
              "  'of',\n",
              "  'the',\n",
              "  'two',\n",
              "  'daughters',\n",
              "  'of',\n",
              "  'a',\n",
              "  'most',\n",
              "  'affectionate',\n",
              "  ',',\n",
              "  'indulgent',\n",
              "  'father',\n",
              "  ';',\n",
              "  'and',\n",
              "  'had',\n",
              "  ',',\n",
              "  'in',\n",
              "  'consequence',\n",
              "  'of',\n",
              "  'her',\n",
              "  'sister',\n",
              "  \"'\",\n",
              "  's',\n",
              "  'marriage',\n",
              "  ',',\n",
              "  'been',\n",
              "  'mistress',\n",
              "  'of',\n",
              "  'his',\n",
              "  'house',\n",
              "  'from',\n",
              "  'a',\n",
              "  'very',\n",
              "  'early',\n",
              "  'period',\n",
              "  '.'],\n",
              " ['Her',\n",
              "  'mother',\n",
              "  'had',\n",
              "  'died',\n",
              "  'too',\n",
              "  'long',\n",
              "  'ago',\n",
              "  'for',\n",
              "  'her',\n",
              "  'to',\n",
              "  'have',\n",
              "  'more',\n",
              "  'than',\n",
              "  'an',\n",
              "  'indistinct',\n",
              "  'remembrance',\n",
              "  'of',\n",
              "  'her',\n",
              "  'caresses',\n",
              "  ';',\n",
              "  'and',\n",
              "  'her',\n",
              "  'place',\n",
              "  'had',\n",
              "  'been',\n",
              "  'supplied',\n",
              "  'by',\n",
              "  'an',\n",
              "  'excellent',\n",
              "  'woman',\n",
              "  'as',\n",
              "  'governess',\n",
              "  ',',\n",
              "  'who',\n",
              "  'had',\n",
              "  'fallen',\n",
              "  'little',\n",
              "  'short',\n",
              "  'of',\n",
              "  'a',\n",
              "  'mother',\n",
              "  'in',\n",
              "  'affection',\n",
              "  '.']]"
            ]
          },
          "metadata": {},
          "execution_count": 20
        }
      ],
      "source": [
        "emma[4:6]"
      ]
    },
    {
      "cell_type": "code",
      "execution_count": null,
      "metadata": {
        "id": "-_GJg82jaobV"
      },
      "outputs": [],
      "source": [
        "# a list of lists of words"
      ]
    },
    {
      "cell_type": "markdown",
      "metadata": {
        "id": "TcBxGo4OaobV"
      },
      "source": [
        "#### Let's write a short program to display other information about each text, by looping over all the values of fileid corresponding to the gutenberg file identifiers listed earlier and then computing statistics for each text. For a compact output display, we will round each number to the nearest integer, using round()."
      ]
    },
    {
      "cell_type": "code",
      "execution_count": null,
      "metadata": {
        "id": "pzFrTDkdaobW"
      },
      "outputs": [],
      "source": [
        "# indentation"
      ]
    },
    {
      "cell_type": "code",
      "execution_count": null,
      "metadata": {
        "scrolled": true,
        "colab": {
          "base_uri": "https://localhost:8080/"
        },
        "id": "6sgfCu3paobW",
        "outputId": "dbf71fc8-92a5-4b2f-be66-f81df2bd3b7a"
      },
      "outputs": [
        {
          "output_type": "stream",
          "name": "stdout",
          "text": [
            "5 25 26 austen-emma.txt\n",
            "5 26 17 austen-persuasion.txt\n",
            "5 28 22 austen-sense.txt\n",
            "4 34 79 bible-kjv.txt\n",
            "5 19 5 blake-poems.txt\n",
            "4 19 14 bryant-stories.txt\n",
            "4 18 12 burgess-busterbrown.txt\n",
            "4 20 13 carroll-alice.txt\n",
            "5 20 12 chesterton-ball.txt\n",
            "5 23 11 chesterton-brown.txt\n",
            "5 18 11 chesterton-thursday.txt\n",
            "4 21 25 edgeworth-parents.txt\n",
            "5 26 15 melville-moby_dick.txt\n",
            "5 52 11 milton-paradise.txt\n",
            "4 12 9 shakespeare-caesar.txt\n",
            "4 12 8 shakespeare-hamlet.txt\n",
            "4 12 7 shakespeare-macbeth.txt\n",
            "5 36 12 whitman-leaves.txt\n"
          ]
        }
      ],
      "source": [
        "for fileid in gutenberg.fileids():\n",
        "    num_chars=len(gutenberg.raw(fileid))\n",
        "    num_words=len(gutenberg.words(fileid))\n",
        "    num_sents=len(gutenberg.sents(fileid))\n",
        "    num_vocab=len(set(w.lower() for w in gutenberg.words(fileid)))\n",
        "    print(round(num_chars/num_words),round(num_words/num_sents),round(num_words/num_vocab),fileid)"
      ]
    },
    {
      "cell_type": "markdown",
      "metadata": {
        "id": "FXflJgbKaobW"
      },
      "source": [
        "#### This program displays three statistics for each text:"
      ]
    },
    {
      "cell_type": "markdown",
      "metadata": {
        "id": "5o_LTslqaobW"
      },
      "source": [
        "#### 1) average word length: num_chars/num_words"
      ]
    },
    {
      "cell_type": "markdown",
      "metadata": {
        "id": "dNFYj4bVaobW"
      },
      "source": [
        "#### 2) average sentence length: num_words/num_sents"
      ]
    },
    {
      "cell_type": "markdown",
      "metadata": {
        "id": "PQZ1FqiyaobW"
      },
      "source": [
        "#### 3) the number of times each vocabulary item appears in the text on average (our lexical diversity score): num_words/num_vocab"
      ]
    },
    {
      "cell_type": "markdown",
      "metadata": {
        "id": "0x1OBgZ4aobW"
      },
      "source": [
        "#### Observe that average word length appears to be a general property of English, since it has a recurrent value of 4. (In fact, the average word length is really 3 not 4, since the num_chars variable counts space characters.)"
      ]
    },
    {
      "cell_type": "markdown",
      "metadata": {
        "id": "jxc6J3qWaobW"
      },
      "source": [
        "#### By contrast average sentence length and lexical diversity appear to be characteristics of particular authors."
      ]
    },
    {
      "cell_type": "markdown",
      "metadata": {
        "id": "-7ZE45fvaobW"
      },
      "source": [
        "#### Exercise 0. Another way to calcuate average word length and sentence length for each text in the gutenberg corpus. Average word length= sum of each word length/the number of words; Average sentence length= sum of each sentence length/the number of sentences"
      ]
    },
    {
      "cell_type": "code",
      "execution_count": null,
      "metadata": {
        "id": "yqWKGrMQaobW"
      },
      "outputs": [],
      "source": [
        "for fileid in gutenberg.fileids():\n",
        "    num_chars = len(gutenberg.raw(fileid))                      # Total number of characters\n",
        "    num_words = len(gutenberg.words(fileid))                    # Total number of words\n",
        "    num_sents = len(gutenberg.sents(fileid))                    # Total number of sentences\n",
        "    num_vocab = len(set(w.lower() for w in gutenberg.words(fileid)))"
      ]
    },
    {
      "cell_type": "code",
      "source": [
        "# Average word length"
      ],
      "metadata": {
        "id": "xSDV11VremV8"
      },
      "execution_count": null,
      "outputs": []
    },
    {
      "cell_type": "code",
      "execution_count": null,
      "metadata": {
        "colab": {
          "base_uri": "https://localhost:8080/"
        },
        "id": "66Xc7MASaobX",
        "outputId": "b87cbe21-f7f1-468a-b0f7-06cc37e9ef58"
      },
      "outputs": [
        {
          "output_type": "stream",
          "name": "stdout",
          "text": [
            "5\n"
          ]
        }
      ],
      "source": [
        "avg_word_length = round(num_chars / num_words)\n",
        "print(avg_word_length)"
      ]
    },
    {
      "cell_type": "code",
      "source": [
        "# Average sentence length"
      ],
      "metadata": {
        "id": "L37-Llw6qNNz"
      },
      "execution_count": null,
      "outputs": []
    },
    {
      "cell_type": "code",
      "execution_count": 29,
      "metadata": {
        "id": "CarY394AaobX",
        "colab": {
          "base_uri": "https://localhost:8080/"
        },
        "outputId": "66d32e61-0ac8-454e-8e18-849850d66a90"
      },
      "outputs": [
        {
          "output_type": "stream",
          "name": "stdout",
          "text": [
            "36\n"
          ]
        }
      ],
      "source": [
        "avg_sent_length = round(num_words / num_sents)\n",
        "print(avg_sent_length)"
      ]
    },
    {
      "cell_type": "markdown",
      "metadata": {
        "id": "cAycae1RaobX"
      },
      "source": [
        "#### The previous example also showed how we can access the \"raw\" text of the book, not split up into tokens."
      ]
    },
    {
      "cell_type": "markdown",
      "metadata": {
        "id": "2Z1xcKp_aobX"
      },
      "source": [
        "#### The raw() function gives us the contents of the file without any linguistic processing.  It tells us how many letters occur in the text, including the spaces between words."
      ]
    },
    {
      "cell_type": "markdown",
      "metadata": {
        "id": "dgFJWdRvaobX"
      },
      "source": [
        "#### The sents() function divides the text up into its sentences, where each sentence is a list of words:"
      ]
    },
    {
      "cell_type": "code",
      "execution_count": 30,
      "metadata": {
        "id": "khvzsQYvaobX"
      },
      "outputs": [],
      "source": [
        "macbeth_sentences=gutenberg.sents('shakespeare-macbeth.txt')"
      ]
    },
    {
      "cell_type": "code",
      "execution_count": 31,
      "metadata": {
        "id": "lz_NOYsvaobX",
        "colab": {
          "base_uri": "https://localhost:8080/"
        },
        "outputId": "ff43ab18-edec-4489-f1f2-7c9f196606dc"
      },
      "outputs": [
        {
          "output_type": "execute_result",
          "data": {
            "text/plain": [
              "[['[', 'The', 'Tragedie', 'of', 'Macbeth', 'by', 'William', 'Shakespeare', '1603', ']'], ['Actus', 'Primus', '.'], ...]"
            ]
          },
          "metadata": {},
          "execution_count": 31
        }
      ],
      "source": [
        "macbeth_sentences"
      ]
    },
    {
      "cell_type": "code",
      "execution_count": 32,
      "metadata": {
        "id": "zNycouZpaobX",
        "colab": {
          "base_uri": "https://localhost:8080/"
        },
        "outputId": "b8277875-9f36-48de-a337-7bf0a9b71ea6"
      },
      "outputs": [
        {
          "output_type": "execute_result",
          "data": {
            "text/plain": [
              "['[',\n",
              " 'The',\n",
              " 'Tragedie',\n",
              " 'of',\n",
              " 'Macbeth',\n",
              " 'by',\n",
              " 'William',\n",
              " 'Shakespeare',\n",
              " '1603',\n",
              " ']']"
            ]
          },
          "metadata": {},
          "execution_count": 32
        }
      ],
      "source": [
        "macbeth_sentences[0]"
      ]
    },
    {
      "cell_type": "code",
      "execution_count": 33,
      "metadata": {
        "id": "90q3Ia43aobX",
        "colab": {
          "base_uri": "https://localhost:8080/"
        },
        "outputId": "f4c18699-dd92-4474-c28b-f30015a129b3"
      },
      "outputs": [
        {
          "output_type": "execute_result",
          "data": {
            "text/plain": [
              "10"
            ]
          },
          "metadata": {},
          "execution_count": 33
        }
      ],
      "source": [
        "len(macbeth_sentences[0])"
      ]
    },
    {
      "cell_type": "code",
      "execution_count": 34,
      "metadata": {
        "id": "4BpEZWNBaobX",
        "colab": {
          "base_uri": "https://localhost:8080/"
        },
        "outputId": "a69f29e2-7401-43c0-c4a6-311a2e86c1a9"
      },
      "outputs": [
        {
          "output_type": "execute_result",
          "data": {
            "text/plain": [
              "['Actus', 'Primus', '.']"
            ]
          },
          "metadata": {},
          "execution_count": 34
        }
      ],
      "source": [
        "macbeth_sentences[1]"
      ]
    },
    {
      "cell_type": "markdown",
      "metadata": {
        "id": "xpZyT0vzaobX"
      },
      "source": [
        "#### output the longest sentence"
      ]
    },
    {
      "cell_type": "code",
      "execution_count": 35,
      "metadata": {
        "id": "hGkwviNgaobX",
        "colab": {
          "base_uri": "https://localhost:8080/"
        },
        "outputId": "cdc124a8-7538-451a-ddc6-3026d4495906"
      },
      "outputs": [
        {
          "output_type": "execute_result",
          "data": {
            "text/plain": [
              "158"
            ]
          },
          "metadata": {},
          "execution_count": 35
        }
      ],
      "source": [
        "longest_len=max(len(s) for s in macbeth_sentences)\n",
        "longest_len"
      ]
    },
    {
      "cell_type": "code",
      "execution_count": 36,
      "metadata": {
        "id": "uk-1J-wNaobY",
        "colab": {
          "base_uri": "https://localhost:8080/"
        },
        "outputId": "c8aa0bbe-4495-499f-ccc1-cd432ff338f1"
      },
      "outputs": [
        {
          "output_type": "execute_result",
          "data": {
            "text/plain": [
              "[['Doubtfull',\n",
              "  'it',\n",
              "  'stood',\n",
              "  ',',\n",
              "  'As',\n",
              "  'two',\n",
              "  'spent',\n",
              "  'Swimmers',\n",
              "  ',',\n",
              "  'that',\n",
              "  'doe',\n",
              "  'cling',\n",
              "  'together',\n",
              "  ',',\n",
              "  'And',\n",
              "  'choake',\n",
              "  'their',\n",
              "  'Art',\n",
              "  ':',\n",
              "  'The',\n",
              "  'mercilesse',\n",
              "  'Macdonwald',\n",
              "  '(',\n",
              "  'Worthie',\n",
              "  'to',\n",
              "  'be',\n",
              "  'a',\n",
              "  'Rebell',\n",
              "  ',',\n",
              "  'for',\n",
              "  'to',\n",
              "  'that',\n",
              "  'The',\n",
              "  'multiplying',\n",
              "  'Villanies',\n",
              "  'of',\n",
              "  'Nature',\n",
              "  'Doe',\n",
              "  'swarme',\n",
              "  'vpon',\n",
              "  'him',\n",
              "  ')',\n",
              "  'from',\n",
              "  'the',\n",
              "  'Westerne',\n",
              "  'Isles',\n",
              "  'Of',\n",
              "  'Kernes',\n",
              "  'and',\n",
              "  'Gallowgrosses',\n",
              "  'is',\n",
              "  'supply',\n",
              "  \"'\",\n",
              "  'd',\n",
              "  ',',\n",
              "  'And',\n",
              "  'Fortune',\n",
              "  'on',\n",
              "  'his',\n",
              "  'damned',\n",
              "  'Quarry',\n",
              "  'smiling',\n",
              "  ',',\n",
              "  'Shew',\n",
              "  \"'\",\n",
              "  'd',\n",
              "  'like',\n",
              "  'a',\n",
              "  'Rebells',\n",
              "  'Whore',\n",
              "  ':',\n",
              "  'but',\n",
              "  'all',\n",
              "  \"'\",\n",
              "  's',\n",
              "  'too',\n",
              "  'weake',\n",
              "  ':',\n",
              "  'For',\n",
              "  'braue',\n",
              "  'Macbeth',\n",
              "  '(',\n",
              "  'well',\n",
              "  'hee',\n",
              "  'deserues',\n",
              "  'that',\n",
              "  'Name',\n",
              "  ')',\n",
              "  'Disdayning',\n",
              "  'Fortune',\n",
              "  ',',\n",
              "  'with',\n",
              "  'his',\n",
              "  'brandisht',\n",
              "  'Steele',\n",
              "  ',',\n",
              "  'Which',\n",
              "  'smoak',\n",
              "  \"'\",\n",
              "  'd',\n",
              "  'with',\n",
              "  'bloody',\n",
              "  'execution',\n",
              "  '(',\n",
              "  'Like',\n",
              "  'Valours',\n",
              "  'Minion',\n",
              "  ')',\n",
              "  'caru',\n",
              "  \"'\",\n",
              "  'd',\n",
              "  'out',\n",
              "  'his',\n",
              "  'passage',\n",
              "  ',',\n",
              "  'Till',\n",
              "  'hee',\n",
              "  'fac',\n",
              "  \"'\",\n",
              "  'd',\n",
              "  'the',\n",
              "  'Slaue',\n",
              "  ':',\n",
              "  'Which',\n",
              "  'neu',\n",
              "  \"'\",\n",
              "  'r',\n",
              "  'shooke',\n",
              "  'hands',\n",
              "  ',',\n",
              "  'nor',\n",
              "  'bad',\n",
              "  'farwell',\n",
              "  'to',\n",
              "  'him',\n",
              "  ',',\n",
              "  'Till',\n",
              "  'he',\n",
              "  'vnseam',\n",
              "  \"'\",\n",
              "  'd',\n",
              "  'him',\n",
              "  'from',\n",
              "  'the',\n",
              "  'Naue',\n",
              "  'toth',\n",
              "  \"'\",\n",
              "  'Chops',\n",
              "  ',',\n",
              "  'And',\n",
              "  'fix',\n",
              "  \"'\",\n",
              "  'd',\n",
              "  'his',\n",
              "  'Head',\n",
              "  'vpon',\n",
              "  'our',\n",
              "  'Battlements']]"
            ]
          },
          "metadata": {},
          "execution_count": 36
        }
      ],
      "source": [
        "[s for s in macbeth_sentences if len(s)==longest_len]"
      ]
    },
    {
      "cell_type": "code",
      "execution_count": null,
      "metadata": {
        "id": "4Yvc71UGaobY"
      },
      "outputs": [],
      "source": [
        "# could you please write the code to output the shortest sentence?"
      ]
    },
    {
      "cell_type": "code",
      "execution_count": 37,
      "metadata": {
        "id": "m1kGW19YaobY",
        "colab": {
          "base_uri": "https://localhost:8080/"
        },
        "outputId": "da246467-e679-456e-ed06-853bc60ffa9c"
      },
      "outputs": [
        {
          "output_type": "execute_result",
          "data": {
            "text/plain": [
              "1"
            ]
          },
          "metadata": {},
          "execution_count": 37
        }
      ],
      "source": [
        "shortest_len=min(len(s) for s in macbeth_sentences)\n",
        "shortest_len"
      ]
    },
    {
      "cell_type": "code",
      "source": [
        "[s for s in macbeth_sentences if len(s)==shortest_len]"
      ],
      "metadata": {
        "colab": {
          "base_uri": "https://localhost:8080/"
        },
        "id": "-1m9ie2qug1N",
        "outputId": "e79f538b-933f-4c3b-b8c2-c6f8e3c3142f"
      },
      "execution_count": 38,
      "outputs": [
        {
          "output_type": "execute_result",
          "data": {
            "text/plain": [
              "[['Hayle'],\n",
              " ['Hayle'],\n",
              " ['Hayle'],\n",
              " ['Now'],\n",
              " ['I'],\n",
              " ['Donalbaine'],\n",
              " ['omnes'],\n",
              " ['Macbeth'],\n",
              " ['Hoboyes'],\n",
              " ['Directly'],\n",
              " ['marching'],\n",
              " ['Alarum']]"
            ]
          },
          "metadata": {},
          "execution_count": 38
        }
      ]
    },
    {
      "cell_type": "markdown",
      "metadata": {
        "id": "ZOayxWJFaobY"
      },
      "source": [
        "### 1.2 Web and Chat Text"
      ]
    },
    {
      "cell_type": "markdown",
      "metadata": {
        "id": "JLNu0TP7aobY"
      },
      "source": [
        "#### Although Project Gutenberg contains thousands of books, it represents established literature. It is important to consider less formal language as well. NLTK's small collection of web text includes content from a Firefox discussion forum, conversations overheard in New York, the movie script of Pirates of the Carribean, personal advertisements, and wine reviews:"
      ]
    },
    {
      "cell_type": "code",
      "execution_count": 39,
      "metadata": {
        "id": "Fp1i1OAdaobY"
      },
      "outputs": [],
      "source": [
        "from nltk.corpus import webtext"
      ]
    },
    {
      "cell_type": "code",
      "execution_count": 40,
      "metadata": {
        "id": "Lgv4Sz5DaobY",
        "colab": {
          "base_uri": "https://localhost:8080/"
        },
        "outputId": "a4e8b917-634b-4851-b115-22e9614cc970"
      },
      "outputs": [
        {
          "output_type": "stream",
          "name": "stdout",
          "text": [
            "firefox.txt Cookie Manager: \"Don't allow sites that set removed cookies to se ...\n",
            "grail.txt SCENE 1: [wind] [clop clop clop] \n",
            "KING ARTHUR: Whoa there!  [clop ...\n",
            "overheard.txt White guy: So, do you have any plans for this evening?\n",
            "Asian girl ...\n",
            "pirates.txt PIRATES OF THE CARRIBEAN: DEAD MAN'S CHEST, by Ted Elliott & Terr ...\n",
            "singles.txt 25 SEXY MALE, seeks attrac older single lady, for discreet encoun ...\n",
            "wine.txt Lovely delicate, fragrant Rhone wine. Polished leather and strawb ...\n"
          ]
        }
      ],
      "source": [
        "for fileid in webtext.fileids():\n",
        "    print(fileid, webtext.raw(fileid)[:65],'...')"
      ]
    },
    {
      "cell_type": "code",
      "execution_count": 41,
      "metadata": {
        "id": "CO3U88feaobY",
        "colab": {
          "base_uri": "https://localhost:8080/"
        },
        "outputId": "f98fa966-9fa0-4ec1-c12d-f4adb8e734a8"
      },
      "outputs": [
        {
          "output_type": "stream",
          "name": "stdout",
          "text": [
            "firefox.txt ['Cookie', 'Manager', ':', '\"', 'Don', \"'\", 't', 'allow', 'sites', 'that'] ...\n",
            "grail.txt ['SCENE', '1', ':', '[', 'wind', ']', '[', 'clop', 'clop', 'clop'] ...\n",
            "overheard.txt ['White', 'guy', ':', 'So', ',', 'do', 'you', 'have', 'any', 'plans'] ...\n",
            "pirates.txt ['PIRATES', 'OF', 'THE', 'CARRIBEAN', ':', 'DEAD', 'MAN', \"'\", 'S', 'CHEST'] ...\n",
            "singles.txt ['25', 'SEXY', 'MALE', ',', 'seeks', 'attrac', 'older', 'single', 'lady', ','] ...\n",
            "wine.txt ['Lovely', 'delicate', ',', 'fragrant', 'Rhone', 'wine', '.', 'Polished', 'leather', 'and'] ...\n"
          ]
        }
      ],
      "source": [
        "for fileid in webtext.fileids():\n",
        "    print(fileid, webtext.words(fileid)[:10],'...')"
      ]
    },
    {
      "cell_type": "code",
      "execution_count": 42,
      "metadata": {
        "id": "UanNzodVaobY",
        "colab": {
          "base_uri": "https://localhost:8080/"
        },
        "outputId": "5c6d3bf5-ea7f-40bb-c46e-d2185ab1725f"
      },
      "outputs": [
        {
          "output_type": "stream",
          "name": "stdout",
          "text": [
            "firefox.txt [['Cookie', 'Manager', ':', '\"', 'Don', \"'\", 't', 'allow', 'sites', 'that', 'set', 'removed', 'cookies', 'to', 'set', 'future', 'cookies', '\"', 'should', 'stay', 'checked', 'When', 'in', 'full', 'screen', 'mode', 'Pressing', 'Ctrl', '-', 'N', 'should', 'open', 'a', 'new', 'browser', 'when', 'only', 'download', 'dialog', 'is', 'left', 'open', 'add', 'icons', 'to', 'context', 'menu', 'So', 'called', '\"', 'tab', 'bar', '\"', 'should', 'be', 'made', 'a', 'proper', 'toolbar', 'or', 'given', 'the', 'ability', 'collapse', '/', 'expand', '.'], ['[', 'XUL', ']', 'Implement', 'Cocoa', '-', 'style', 'toolbar', 'customization', '.'], ['#', 'ifdefs', 'for', 'MOZ_PHOENIX', 'customize', 'dialog', \"'\", 's', 'toolbar', 'has', 'small', 'icons', 'when', 'small', 'icons', 'is', 'not', 'checked', 'nightly', 'builds', 'and', 'tinderboxen', 'for', 'Phoenix', 'finish', 'tearing', 'prefs', 'UI', 'to', 'pieces', 'and', 'then', 'make', 'it', 'not', 'suck', '\"', 'mozbrowser', '\"', 'script', 'doesn', \"'\", 't', 'start', 'correct', 'binary', 'Need', 'bookmark', 'groups', 'icon', 'Dropping', 'at', 'top', 'of', 'palette', 'box', 'horks', 'things', 'keyboard', 'shortcut', 'for', 'Increase', 'Text', 'Size', 'is', 'broken', 'default', 'phoenix', 'bookmarks', '[', 'cust', ']', 'need', 'a', 'toolbar', 'spacer', 'and', 'spring', 'spacer', 'for', 'customize', 'Can', \"'\", 't', 'launch', 'phoenix', 'while', 'Mozilla', 'is', 'running', '(', 'or', 'vice', 'versa', ')', 'separator', 'not', 'available', 'when', 'all', 'toolbar', 'items', 'are', 'in', 'toolbar', 'layout', 'history', 'menu', 'for', 'the', 'back', 'buttons', 'doesn', \"'\", 't', 'work', 'attempting', 'to', 'open', '\"', 'back', 'button', 'history', 'menu', '\"', 'in', 'the', 'second', 'window', 'generates', 'another', 'back', 'button', 'on', 'the', 'toolbar', 'Phoenix', 'and', 'Mozilla', 'cannot', 'comfortably', 'share', 'a', 'source', 'tree', 'Phoenix', 'forgets', 'all', 'cookies', 'even', 'though', '\"', 'Enable', 'cookies', 'for', 'the', 'current', 'session', 'only', '\"', 'is', 'NOT', 'chosen', 'Starting', 'Customizing', 'Toolbar', 'makes', 'the', 'current', 'page', 'go', 'blank', 'Check', 'in', 'Satchel', '(', 'the', 'successor', 'to', 'wallet', ')', 'Mousing', 'over', 'back', 'menu', 'in', 'second', 'window', 'horks', 'things', 'Personal', 'toolbar', 'needs', 'a', 'min', '-', 'height', 'to', 'avoid', '\"', 'popping', 'in', '\"', 'New', 'Folder', '...', 'in', 'ptoolbar', 'context', 'menu', 'is', 'broken', 'Implement', 'Mozilla', 'Firebird', 'Help', 'tabs', 'close', 'in', 'the', 'wrong', 'order', '(', 'right', 'to', 'left', ')', 'back', 'buttons', 'and', 'context', 'options', 'always', 'disabled', '.']] ...\n",
            "grail.txt [['SCENE', '1', ':', '[', 'wind', ']', '[', 'clop', 'clop', 'clop', ']', 'KING', 'ARTHUR', ':', 'Whoa', 'there', '!'], ['[', 'clop', 'clop', 'clop', ']', 'SOLDIER', '#', '1', ':', 'Halt', '!'], ['Who', 'goes', 'there', '?']] ...\n",
            "overheard.txt [['White', 'guy', ':', 'So', ',', 'do', 'you', 'have', 'any', 'plans', 'for', 'this', 'evening', '?'], ['Asian', 'girl', ':', 'Yeah', ',', 'being', 'angry', '!'], ['White', 'guy', ':', 'Oh', ',', 'that', 'sounds', 'good', '.']] ...\n",
            "pirates.txt [['PIRATES', 'OF', 'THE', 'CARRIBEAN', ':', 'DEAD', 'MAN', \"'\", 'S', 'CHEST', ',', 'by', 'Ted', 'Elliott', '&', 'Terry', 'Rossio', '[', 'view', 'looking', 'straight', 'down', 'at', 'rolling', 'swells', ',', 'sound', 'of', 'wind', 'and', 'thunder', ',', 'then', 'a', 'low', 'heartbeat', ']', 'Scene', ':', 'PORT', 'ROYAL', '[', 'teacups', 'on', 'a', 'table', 'in', 'the', 'rain', ']', '[', 'sheet', 'music', 'on', 'music', 'stands', 'in', 'the', 'rain', ']', '[', 'bouquet', 'of', 'white', 'orchids', ',', 'Elizabeth', 'sitting', 'in', 'the', 'rain', 'holding', 'the', 'bouquet', ']', '[', 'men', 'rowing', ',', 'men', 'on', 'horseback', ',', 'to', 'the', 'sound', 'of', 'thunder', ']', '[', 'EITC', 'logo', 'on', 'flag', 'blowing', 'in', 'the', 'wind', ']', '[', 'many', 'rowboats', 'are', 'entering', 'the', 'harbor', ']', '[', 'Elizabeth', 'sitting', 'alone', ',', 'at', 'a', 'distance', ']', '[', 'marines', 'running', ',', 'kick', 'a', 'door', 'in', ']', '[', 'a', 'mule', 'is', 'seen', 'on', 'the', 'left', 'in', 'the', 'barn', 'where', 'the', 'marines', 'enter', ']', '[', 'Liz', 'looking', 'over', 'her', 'shoulder', ']', '[', 'Elizabeth', 'drops', 'her', 'bouquet', ']', '[', 'Will', 'is', 'in', 'manacles', ',', 'being', 'escorted', 'by', 'red', 'coats', ']', 'ELIZABETH', 'SWANN', ':', 'Will', '...!'], ['[', 'Elizabeth', 'runs', 'to', 'Will', ']', 'ELIZABETH', 'SWANN', ':', 'Why', 'is', 'this', 'happening', '?'], ['WILL', 'TURNER', ':', 'I', 'don', \"'\", 't', 'know', '.']] ...\n",
            "singles.txt [['25', 'SEXY', 'MALE', ',', 'seeks', 'attrac', 'older', 'single', 'lady', ',', 'for', 'discreet', 'encounters', '.'], ['35YO', 'Security', 'Guard', ',', 'seeking', 'lady', 'in', 'uniform', 'for', 'fun', 'times', '.'], ['40', 'yo', 'SINGLE', 'DAD', ',', 'sincere', 'friendly', 'DTE', 'seeks', 'r', '/', 'ship', 'with', 'fem', 'age', 'open', 'S', '/', 'E', '44yo', 'tall', 'seeks', 'working', 'single', 'mum', 'or', 'lady', 'below', '45', 'fship', 'rship', '.']] ...\n",
            "wine.txt [['Lovely', 'delicate', ',', 'fragrant', 'Rhone', 'wine', '.'], ['Polished', 'leather', 'and', 'strawberries', '.'], ['Perhaps', 'a', 'bit', 'dilute', ',', 'but', 'good', 'for', 'drinking', 'now', '.']] ...\n"
          ]
        }
      ],
      "source": [
        "for fileid in webtext.fileids():\n",
        "    print(fileid, webtext.sents(fileid)[:3],'...')"
      ]
    },
    {
      "cell_type": "markdown",
      "metadata": {
        "id": "HdEL4HcTaobY"
      },
      "source": [
        "#### There is also a corpus of instant messaging chat sessions, originally collected by the Naval Postgraduate School for research on automatic detection of Internet predators."
      ]
    },
    {
      "cell_type": "markdown",
      "metadata": {
        "id": "1a3l0uGvaobY"
      },
      "source": [
        "#### The corpus contains over 10,000 posts, anonymized by replacing usernames with generic names of the form \"UserNNN\", and manually edited to remove any other identifying information"
      ]
    },
    {
      "cell_type": "markdown",
      "metadata": {
        "id": "An3CAc6haobY"
      },
      "source": [
        "#### The corpus is organized into 15 files, where each file contains several hundred posts collected on a given date, for an age-specific chatroom (teens, 20s, 30s, 40s, plus a generic adults chatroom)."
      ]
    },
    {
      "cell_type": "markdown",
      "metadata": {
        "id": "e6B6rIPIaobY"
      },
      "source": [
        "#### The filename contains the date, chatroom, and number of posts; e.g., 10-19-20s_706posts.xml contains 706 posts gathered from the 20s chat room on 10/19/2006."
      ]
    },
    {
      "cell_type": "code",
      "execution_count": 43,
      "metadata": {
        "id": "8FgVAq9BaobZ"
      },
      "outputs": [],
      "source": [
        "from nltk.corpus import nps_chat"
      ]
    },
    {
      "cell_type": "code",
      "execution_count": 44,
      "metadata": {
        "id": "Hh7SkkRHaobZ"
      },
      "outputs": [],
      "source": [
        "chatroom=nps_chat.posts('10-19-20s_706posts.xml')"
      ]
    },
    {
      "cell_type": "code",
      "execution_count": 45,
      "metadata": {
        "id": "PCUZTF4VaobZ",
        "colab": {
          "base_uri": "https://localhost:8080/"
        },
        "outputId": "8af9f150-0ae0-4619-cac3-dd24d180990e"
      },
      "outputs": [
        {
          "output_type": "execute_result",
          "data": {
            "text/plain": [
              "[['now', 'im', 'left', 'with', 'this', 'gay', 'name'], [':P'], ...]"
            ]
          },
          "metadata": {},
          "execution_count": 45
        }
      ],
      "source": [
        "chatroom"
      ]
    },
    {
      "cell_type": "code",
      "execution_count": 46,
      "metadata": {
        "id": "OOTBsTOyaobZ"
      },
      "outputs": [],
      "source": [
        "# Note: what is the kind of data of XML?"
      ]
    },
    {
      "cell_type": "code",
      "execution_count": 47,
      "metadata": {
        "scrolled": true,
        "id": "8y__wA4EaobZ",
        "colab": {
          "base_uri": "https://localhost:8080/"
        },
        "outputId": "09150f52-325b-4195-b785-e87dac1b004b"
      },
      "outputs": [
        {
          "output_type": "execute_result",
          "data": {
            "text/plain": [
              "['ewwwww', 'lol']"
            ]
          },
          "metadata": {},
          "execution_count": 47
        }
      ],
      "source": [
        "chatroom[40]"
      ]
    },
    {
      "cell_type": "markdown",
      "metadata": {
        "id": "Fm7j0_EsaobZ"
      },
      "source": [
        "### 1.3 Brown Corpus"
      ]
    },
    {
      "cell_type": "markdown",
      "metadata": {
        "id": "yX97GzsKaobZ"
      },
      "source": [
        "#### The Brown Corpus was the first million-word electronic corpus of English, created in 1961 at Brown University. This corpus contains text from 500 sources, and the sources have been categorized by genre, such as news, editorial, and so on"
      ]
    },
    {
      "cell_type": "markdown",
      "metadata": {
        "id": "UFucbIi8aobZ"
      },
      "source": [
        "#### Table 1.1 Example Document for Each Section of the Brown Corpus"
      ]
    },
    {
      "cell_type": "code",
      "execution_count": 48,
      "metadata": {
        "id": "pkGSn0zRaobZ"
      },
      "outputs": [],
      "source": [
        "#ID \tFile\tGenre\tDescription\n",
        "#A16\tca16\tnews\tChicago Tribune: Society Reportage\n",
        "#B02\tcb02\teditorial\tChristian Science Monitor: Editorials\n",
        "#C17\tcc17\treviews \tTime Magazine: Reviews\n",
        "#D12\tcd12\treligion\tUnderwood: Probing the Ethics of Realtors\n",
        "#E36\tce36\thobbies \tNorling: Renting a Car in Europe\n",
        "#F25\tcf25\tlore\tBoroff: Jewish Teenage Culture\n",
        "#G22\tcg22\tbelles_lettres\tReiner: Coping with Runaway Technology\n",
        "#H15\tch15\tgovernment\tUS Office of Civil and Defence Mobilization: The Family Fallout Shelter\n",
        "#J17\tcj19\tlearned \tMosteller: Probability with Statistical Applications\n",
        "#K04\tck04\tfiction \tW.E.B. Du Bois: Worlds of Color\n",
        "#L13\tcl13\tmystery \tHitchens: Footsteps in the Night\n",
        "#M01\tcm01\tscience_fiction\tHeinlein: Stranger in a Strange Land\n",
        "#N14\tcn15\tadventure\tField: Rattlesnake Ridge\n",
        "#P12\tcp12\tromance \tCallaghan: A Passion in Rome\n",
        "#R06\tcr06\thumor\tThurber: The Future, If Any, of Comedy"
      ]
    },
    {
      "cell_type": "markdown",
      "metadata": {
        "id": "5wjQnE_PaobZ"
      },
      "source": [
        "#### We can access the corpus as a list of words, or a list of sentences (where each sentence is itself just a list of words). We can optionally specify particular categories or files to read:"
      ]
    },
    {
      "cell_type": "code",
      "execution_count": 49,
      "metadata": {
        "id": "m4VH2GvhaobZ"
      },
      "outputs": [],
      "source": [
        "from nltk.corpus import brown"
      ]
    },
    {
      "cell_type": "code",
      "execution_count": 50,
      "metadata": {
        "scrolled": true,
        "id": "kLRV8396aobZ",
        "colab": {
          "base_uri": "https://localhost:8080/"
        },
        "outputId": "7c8e0367-8258-48fb-b8a6-30c61aea9b03"
      },
      "outputs": [
        {
          "output_type": "execute_result",
          "data": {
            "text/plain": [
              "['adventure',\n",
              " 'belles_lettres',\n",
              " 'editorial',\n",
              " 'fiction',\n",
              " 'government',\n",
              " 'hobbies',\n",
              " 'humor',\n",
              " 'learned',\n",
              " 'lore',\n",
              " 'mystery',\n",
              " 'news',\n",
              " 'religion',\n",
              " 'reviews',\n",
              " 'romance',\n",
              " 'science_fiction']"
            ]
          },
          "metadata": {},
          "execution_count": 50
        }
      ],
      "source": [
        "brown.categories()"
      ]
    },
    {
      "cell_type": "code",
      "execution_count": 51,
      "metadata": {
        "id": "DWf8l4lGaoba",
        "colab": {
          "base_uri": "https://localhost:8080/"
        },
        "outputId": "492686d9-6ede-41b0-d569-5ab214ea1530"
      },
      "outputs": [
        {
          "output_type": "execute_result",
          "data": {
            "text/plain": [
              "100554"
            ]
          },
          "metadata": {},
          "execution_count": 51
        }
      ],
      "source": [
        "len(brown.words(categories='news'))"
      ]
    },
    {
      "cell_type": "code",
      "execution_count": null,
      "metadata": {
        "id": "s0PSw1oTaoba"
      },
      "outputs": [],
      "source": [
        "# a list of words of all 44 documents under the news categrory"
      ]
    },
    {
      "cell_type": "code",
      "execution_count": 52,
      "metadata": {
        "id": "srORSg2daoba",
        "colab": {
          "base_uri": "https://localhost:8080/"
        },
        "outputId": "c193b7e1-f10f-41d5-c98b-f4577c8d555d"
      },
      "outputs": [
        {
          "output_type": "execute_result",
          "data": {
            "text/plain": [
              "2242"
            ]
          },
          "metadata": {},
          "execution_count": 52
        }
      ],
      "source": [
        "len(brown.words(fileids=['ca01']))"
      ]
    },
    {
      "cell_type": "code",
      "execution_count": 53,
      "metadata": {
        "id": "yZbTpxu1aoba",
        "colab": {
          "base_uri": "https://localhost:8080/"
        },
        "outputId": "b6956730-34a1-481c-8878-a0de3fde5542"
      },
      "outputs": [
        {
          "output_type": "execute_result",
          "data": {
            "text/plain": [
              "['Romantic', 'news', 'concerns', 'Mrs.', 'Joan', ...]"
            ]
          },
          "metadata": {},
          "execution_count": 53
        }
      ],
      "source": [
        "brown.words(fileids=['ca16'])"
      ]
    },
    {
      "cell_type": "code",
      "execution_count": null,
      "metadata": {
        "id": "jxxyviRBaoba"
      },
      "outputs": [],
      "source": [
        "# a list of words of the document named \"ca16\""
      ]
    },
    {
      "cell_type": "code",
      "execution_count": 54,
      "metadata": {
        "id": "VaZytojiaoba",
        "colab": {
          "base_uri": "https://localhost:8080/"
        },
        "outputId": "e1c96072-31b1-40ab-c7e5-3d6b8e4b3235"
      },
      "outputs": [
        {
          "output_type": "execute_result",
          "data": {
            "text/plain": [
              "[['The', 'Fulton', 'County', 'Grand', 'Jury', 'said', 'Friday', 'an', 'investigation', 'of', \"Atlanta's\", 'recent', 'primary', 'election', 'produced', '``', 'no', 'evidence', \"''\", 'that', 'any', 'irregularities', 'took', 'place', '.'], ['The', 'jury', 'further', 'said', 'in', 'term-end', 'presentments', 'that', 'the', 'City', 'Executive', 'Committee', ',', 'which', 'had', 'over-all', 'charge', 'of', 'the', 'election', ',', '``', 'deserves', 'the', 'praise', 'and', 'thanks', 'of', 'the', 'City', 'of', 'Atlanta', \"''\", 'for', 'the', 'manner', 'in', 'which', 'the', 'election', 'was', 'conducted', '.'], ...]"
            ]
          },
          "metadata": {},
          "execution_count": 54
        }
      ],
      "source": [
        "brown.sents(categories=['news','editorial','reviews'])"
      ]
    },
    {
      "cell_type": "code",
      "execution_count": null,
      "metadata": {
        "id": "liifoQNFaoba"
      },
      "outputs": [],
      "source": [
        "# return a list of sentences of all documents under the categories of news,editorial and reviews"
      ]
    },
    {
      "cell_type": "markdown",
      "metadata": {
        "id": "YjGy6g58aoba"
      },
      "source": [
        "#### The Brown Corpus is a convenient resource for studying systematic differences between genres.Let's compare genres in their usage of modal verbs."
      ]
    },
    {
      "cell_type": "markdown",
      "metadata": {
        "id": "se0IPhsIaoba"
      },
      "source": [
        "#### The first step is to produce the counts for a particular genre.  Remember to import nltk before doing the following:"
      ]
    },
    {
      "cell_type": "code",
      "execution_count": 55,
      "metadata": {
        "id": "gLk-j8t0aoba"
      },
      "outputs": [],
      "source": [
        "from nltk.corpus import brown"
      ]
    },
    {
      "cell_type": "code",
      "execution_count": 56,
      "metadata": {
        "id": "LCbZeTO9aoba"
      },
      "outputs": [],
      "source": [
        "news_text=brown.words(categories='news')"
      ]
    },
    {
      "cell_type": "code",
      "execution_count": 57,
      "metadata": {
        "id": "LL_9j0mxaoba"
      },
      "outputs": [],
      "source": [
        "fdist=nltk.FreqDist(w.lower() for w in news_text)"
      ]
    },
    {
      "cell_type": "code",
      "execution_count": 58,
      "metadata": {
        "id": "El3nYzJMaoba",
        "colab": {
          "base_uri": "https://localhost:8080/"
        },
        "outputId": "63a75181-0a79-4086-eb29-54b091162853"
      },
      "outputs": [
        {
          "output_type": "execute_result",
          "data": {
            "text/plain": [
              "[('the', 6386),\n",
              " (',', 5188),\n",
              " ('.', 4030),\n",
              " ('of', 2861),\n",
              " ('and', 2186),\n",
              " ('to', 2144),\n",
              " ('a', 2130),\n",
              " ('in', 2020),\n",
              " ('for', 969),\n",
              " ('that', 829),\n",
              " ('is', 733),\n",
              " ('``', 732),\n",
              " ('was', 717),\n",
              " (\"''\", 702),\n",
              " ('on', 691),\n",
              " ('he', 642),\n",
              " ('at', 636),\n",
              " ('with', 567),\n",
              " ('be', 526),\n",
              " ('as', 517),\n",
              " ('by', 504),\n",
              " ('it', 478),\n",
              " ('his', 428),\n",
              " ('said', 406),\n",
              " ('will', 389),\n",
              " ('from', 353),\n",
              " ('are', 330),\n",
              " ('this', 320),\n",
              " (';', 314),\n",
              " ('an', 311),\n",
              " ('has', 301),\n",
              " ('--', 300),\n",
              " ('but', 283),\n",
              " ('had', 281),\n",
              " ('who', 268),\n",
              " ('they', 267),\n",
              " ('have', 265),\n",
              " ('not', 257),\n",
              " ('mrs.', 253),\n",
              " ('were', 252),\n",
              " ('would', 246),\n",
              " ('which', 245),\n",
              " ('new', 241),\n",
              " ('their', 231),\n",
              " ('one', 213),\n",
              " ('been', 212),\n",
              " ('there', 189),\n",
              " ('more', 183),\n",
              " ('all', 181),\n",
              " ('i', 179),\n",
              " ('its', 178),\n",
              " ('last', 177),\n",
              " ('or', 174),\n",
              " ('two', 174),\n",
              " (')', 171),\n",
              " ('mr.', 170),\n",
              " ('when', 169),\n",
              " ('(', 168),\n",
              " ('up', 168),\n",
              " ('other', 164),\n",
              " ('out', 162),\n",
              " ('first', 158),\n",
              " ('state', 153),\n",
              " ('after', 151),\n",
              " (':', 149),\n",
              " ('about', 147),\n",
              " ('year', 142),\n",
              " ('president', 142),\n",
              " ('than', 138),\n",
              " ('home', 132),\n",
              " ('also', 129),\n",
              " ('her', 121),\n",
              " ('no', 120),\n",
              " ('over', 119),\n",
              " ('into', 115),\n",
              " ('some', 113),\n",
              " ('only', 111),\n",
              " ('we', 107),\n",
              " ('made', 107),\n",
              " ('time', 103),\n",
              " ('if', 103),\n",
              " ('years', 102),\n",
              " ('three', 101),\n",
              " ('house', 97),\n",
              " ('them', 96),\n",
              " ('what', 95),\n",
              " ('any', 94),\n",
              " ('can', 94),\n",
              " ('week', 94),\n",
              " ('city', 93),\n",
              " ('may', 93),\n",
              " ('before', 93),\n",
              " ('him', 93),\n",
              " ('under', 91),\n",
              " ('?', 90),\n",
              " ('school', 87),\n",
              " ('now', 87),\n",
              " ('could', 87),\n",
              " ('four', 82),\n",
              " ('so', 81)]"
            ]
          },
          "metadata": {},
          "execution_count": 58
        }
      ],
      "source": [
        "fdist.most_common(100)"
      ]
    },
    {
      "cell_type": "code",
      "execution_count": 59,
      "metadata": {
        "id": "5evwbD0Jaoba",
        "colab": {
          "base_uri": "https://localhost:8080/"
        },
        "outputId": "845991fb-7bd1-4c71-fe41-2e6ea3c87b37"
      },
      "outputs": [
        {
          "output_type": "execute_result",
          "data": {
            "text/plain": [
              "87"
            ]
          },
          "metadata": {},
          "execution_count": 59
        }
      ],
      "source": [
        "fdist[\"could\"]"
      ]
    },
    {
      "cell_type": "code",
      "execution_count": 60,
      "metadata": {
        "id": "WPtUl827aoba"
      },
      "outputs": [],
      "source": [
        "modals=['can','could','may','might','must','will']"
      ]
    },
    {
      "cell_type": "code",
      "execution_count": 63,
      "metadata": {
        "id": "D8dAGc-Caoba",
        "colab": {
          "base_uri": "https://localhost:8080/"
        },
        "outputId": "b3e67025-0dd3-454b-f356-289911d0010c"
      },
      "outputs": [
        {
          "output_type": "stream",
          "name": "stdout",
          "text": [
            "can: 94 could: 87 may: 93 might: 38 must: 53 will: 389 "
          ]
        }
      ],
      "source": [
        "for m in modals:\n",
        "    print(m+':',fdist[m],end=' ')"
      ]
    },
    {
      "cell_type": "markdown",
      "metadata": {
        "id": "hSd3BG-Oaobb"
      },
      "source": [
        "#### Exercise 1: Choose a different section of the Brown Corpus (e.g. reviews), and adapt the previous example to count the words: what, when, where, who, and why."
      ]
    },
    {
      "cell_type": "code",
      "execution_count": 61,
      "metadata": {
        "id": "bugsjXpSaobb"
      },
      "outputs": [],
      "source": [
        "from nltk.corpus import brown"
      ]
    },
    {
      "cell_type": "code",
      "execution_count": 62,
      "metadata": {
        "id": "aVwAvGqsaobb",
        "colab": {
          "base_uri": "https://localhost:8080/"
        },
        "outputId": "7c4bb333-f6a5-4d1e-be93-0b5c46ac43bf"
      },
      "outputs": [
        {
          "output_type": "execute_result",
          "data": {
            "text/plain": [
              "['adventure',\n",
              " 'belles_lettres',\n",
              " 'editorial',\n",
              " 'fiction',\n",
              " 'government',\n",
              " 'hobbies',\n",
              " 'humor',\n",
              " 'learned',\n",
              " 'lore',\n",
              " 'mystery',\n",
              " 'news',\n",
              " 'religion',\n",
              " 'reviews',\n",
              " 'romance',\n",
              " 'science_fiction']"
            ]
          },
          "metadata": {},
          "execution_count": 62
        }
      ],
      "source": [
        "brown.categories()"
      ]
    },
    {
      "cell_type": "code",
      "source": [
        "modals=['what','when','where','who','why']"
      ],
      "metadata": {
        "id": "_zr9JUjzvymm"
      },
      "execution_count": 64,
      "outputs": []
    },
    {
      "cell_type": "code",
      "source": [
        "for m in modals:\n",
        "    print(m+':',fdist[m],end=' ')"
      ],
      "metadata": {
        "colab": {
          "base_uri": "https://localhost:8080/"
        },
        "id": "sBX7B_XLv83g",
        "outputId": "1e7c6a51-d8b2-47d8-8fae-e7fb62f386c2"
      },
      "execution_count": 65,
      "outputs": [
        {
          "output_type": "stream",
          "name": "stdout",
          "text": [
            "what: 95 when: 169 where: 59 who: 268 why: 14 "
          ]
        }
      ]
    },
    {
      "cell_type": "markdown",
      "metadata": {
        "id": "TpA51xN6aobb"
      },
      "source": [
        "#### Next, we need to obtain counts for each genre of interest. We'll use NLTK's support for conditional frequency distributions."
      ]
    },
    {
      "cell_type": "markdown",
      "metadata": {
        "id": "CCBSWPK_aobb"
      },
      "source": [
        "#### These are presented systematically in 2, where we also unpick the following code line by line.\n",
        "#### For the moment, you can ignore the details and just concentrate on the output."
      ]
    },
    {
      "cell_type": "code",
      "execution_count": null,
      "metadata": {
        "id": "OfQRSI1Oaobb"
      },
      "outputs": [],
      "source": [
        "# take a list of pairs as an input"
      ]
    },
    {
      "cell_type": "code",
      "execution_count": 66,
      "metadata": {
        "id": "lPc65XaYaobb"
      },
      "outputs": [],
      "source": [
        "cfd=nltk.ConditionalFreqDist(\n",
        "        (genre,word)\n",
        "         for genre in brown.categories()\n",
        "         for word in brown.words(categories=genre))"
      ]
    },
    {
      "cell_type": "code",
      "execution_count": 67,
      "metadata": {
        "id": "ELzPU0ZYaobb"
      },
      "outputs": [],
      "source": [
        "genres=['news','religion','hobbies','science_fiction','romance','humor']"
      ]
    },
    {
      "cell_type": "code",
      "execution_count": 68,
      "metadata": {
        "id": "9SD646qPaobb"
      },
      "outputs": [],
      "source": [
        "modals=['can','could','may','might','must','will']"
      ]
    },
    {
      "cell_type": "code",
      "execution_count": 69,
      "metadata": {
        "scrolled": true,
        "id": "j7SkOxrUaobb",
        "colab": {
          "base_uri": "https://localhost:8080/"
        },
        "outputId": "6b5804d8-6997-456a-9c97-dfdd892da536"
      },
      "outputs": [
        {
          "output_type": "stream",
          "name": "stdout",
          "text": [
            "                  can could   may might  must  will \n",
            "           news    93    86    66    38    50   389 \n",
            "       religion    82    59    78    12    54    71 \n",
            "        hobbies   268    58   131    22    83   264 \n",
            "science_fiction    16    49     4    12     8    16 \n",
            "        romance    74   193    11    51    45    43 \n",
            "          humor    16    30     8     8     9    13 \n"
          ]
        }
      ],
      "source": [
        "cfd.tabulate(conditions=genres,samples=modals)"
      ]
    },
    {
      "cell_type": "markdown",
      "metadata": {
        "id": "uWVOBGJsaobb"
      },
      "source": [
        "#### Observe that the most frequent modal in the news genre is will, while the most frequent modal in the romance genre is could."
      ]
    },
    {
      "cell_type": "markdown",
      "metadata": {
        "id": "NM5Qjvkfaobb"
      },
      "source": [
        "### 1.4 Reuters Corpus"
      ]
    },
    {
      "cell_type": "markdown",
      "metadata": {
        "id": "SYP_5lpLaobb"
      },
      "source": [
        "#### The Reuters Corpus contains 10,788 news documents totaling 1.3 million words. The documents have been classified into 90 topics, and grouped into two sets, called \"training\" and \"test\"; thus, the text with fileid 'test/14826' is a document drawn from the test set. This split is for training and testing algorithms that automatically detect the topic of a document, as we will see in Chapter 6. Learning to Classify Text"
      ]
    },
    {
      "cell_type": "code",
      "execution_count": 70,
      "metadata": {
        "id": "xvy2FzRVaobb"
      },
      "outputs": [],
      "source": [
        "from nltk.corpus import reuters"
      ]
    },
    {
      "cell_type": "code",
      "execution_count": 71,
      "metadata": {
        "id": "wa7ckuw2aobb",
        "colab": {
          "base_uri": "https://localhost:8080/"
        },
        "outputId": "d33da230-ee0f-4eae-8a2e-75951d32ed63"
      },
      "outputs": [
        {
          "output_type": "execute_result",
          "data": {
            "text/plain": [
              "['test/14826',\n",
              " 'test/14828',\n",
              " 'test/14829',\n",
              " 'test/14832',\n",
              " 'test/14833',\n",
              " 'test/14839',\n",
              " 'test/14840',\n",
              " 'test/14841',\n",
              " 'test/14842',\n",
              " 'test/14843']"
            ]
          },
          "metadata": {},
          "execution_count": 71
        }
      ],
      "source": [
        "reuters.fileids()[0:10]"
      ]
    },
    {
      "cell_type": "code",
      "execution_count": 72,
      "metadata": {
        "id": "1tl_v_ahaobb",
        "colab": {
          "base_uri": "https://localhost:8080/"
        },
        "outputId": "18469efc-ce6e-4396-d117-e32ac87c3cf4"
      },
      "outputs": [
        {
          "output_type": "execute_result",
          "data": {
            "text/plain": [
              "['training/9982',\n",
              " 'training/9984',\n",
              " 'training/9985',\n",
              " 'training/9988',\n",
              " 'training/9989',\n",
              " 'training/999',\n",
              " 'training/9992',\n",
              " 'training/9993',\n",
              " 'training/9994',\n",
              " 'training/9995']"
            ]
          },
          "metadata": {},
          "execution_count": 72
        }
      ],
      "source": [
        "reuters.fileids()[-10:]"
      ]
    },
    {
      "cell_type": "code",
      "execution_count": 73,
      "metadata": {
        "id": "-36yW6Ctaobc",
        "colab": {
          "base_uri": "https://localhost:8080/"
        },
        "outputId": "f8377eeb-8485-40de-f94c-aa0433562b52"
      },
      "outputs": [
        {
          "output_type": "execute_result",
          "data": {
            "text/plain": [
              "['acq',\n",
              " 'alum',\n",
              " 'barley',\n",
              " 'bop',\n",
              " 'carcass',\n",
              " 'castor-oil',\n",
              " 'cocoa',\n",
              " 'coconut',\n",
              " 'coconut-oil',\n",
              " 'coffee',\n",
              " 'copper',\n",
              " 'copra-cake',\n",
              " 'corn',\n",
              " 'cotton',\n",
              " 'cotton-oil',\n",
              " 'cpi',\n",
              " 'cpu',\n",
              " 'crude',\n",
              " 'dfl',\n",
              " 'dlr',\n",
              " 'dmk',\n",
              " 'earn',\n",
              " 'fuel',\n",
              " 'gas',\n",
              " 'gnp',\n",
              " 'gold',\n",
              " 'grain',\n",
              " 'groundnut',\n",
              " 'groundnut-oil',\n",
              " 'heat',\n",
              " 'hog',\n",
              " 'housing',\n",
              " 'income',\n",
              " 'instal-debt',\n",
              " 'interest',\n",
              " 'ipi',\n",
              " 'iron-steel',\n",
              " 'jet',\n",
              " 'jobs',\n",
              " 'l-cattle',\n",
              " 'lead',\n",
              " 'lei',\n",
              " 'lin-oil',\n",
              " 'livestock',\n",
              " 'lumber',\n",
              " 'meal-feed',\n",
              " 'money-fx',\n",
              " 'money-supply',\n",
              " 'naphtha',\n",
              " 'nat-gas',\n",
              " 'nickel',\n",
              " 'nkr',\n",
              " 'nzdlr',\n",
              " 'oat',\n",
              " 'oilseed',\n",
              " 'orange',\n",
              " 'palladium',\n",
              " 'palm-oil',\n",
              " 'palmkernel',\n",
              " 'pet-chem',\n",
              " 'platinum',\n",
              " 'potato',\n",
              " 'propane',\n",
              " 'rand',\n",
              " 'rape-oil',\n",
              " 'rapeseed',\n",
              " 'reserves',\n",
              " 'retail',\n",
              " 'rice',\n",
              " 'rubber',\n",
              " 'rye',\n",
              " 'ship',\n",
              " 'silver',\n",
              " 'sorghum',\n",
              " 'soy-meal',\n",
              " 'soy-oil',\n",
              " 'soybean',\n",
              " 'strategic-metal',\n",
              " 'sugar',\n",
              " 'sun-meal',\n",
              " 'sun-oil',\n",
              " 'sunseed',\n",
              " 'tea',\n",
              " 'tin',\n",
              " 'trade',\n",
              " 'veg-oil',\n",
              " 'wheat',\n",
              " 'wpi',\n",
              " 'yen',\n",
              " 'zinc']"
            ]
          },
          "metadata": {},
          "execution_count": 73
        }
      ],
      "source": [
        "reuters.categories()"
      ]
    },
    {
      "cell_type": "markdown",
      "metadata": {
        "id": "ppuLCzFhaobc"
      },
      "source": [
        "#### Unlike the Brown Corpus, categories in the Reuters corpus overlap with each other, simply because a news story often covers multiple topics. We can ask for the topics covered by one or more documents, or for the documents included in one or more categories."
      ]
    },
    {
      "cell_type": "code",
      "execution_count": 74,
      "metadata": {
        "scrolled": true,
        "id": "KV09Iv8vaobc",
        "colab": {
          "base_uri": "https://localhost:8080/"
        },
        "outputId": "8883bea9-e494-44bc-ee52-fae4fc7974bb"
      },
      "outputs": [
        {
          "output_type": "execute_result",
          "data": {
            "text/plain": [
              "['barley', 'corn', 'grain', 'wheat']"
            ]
          },
          "metadata": {},
          "execution_count": 74
        }
      ],
      "source": [
        "reuters.categories('training/9865')"
      ]
    },
    {
      "cell_type": "code",
      "execution_count": 75,
      "metadata": {
        "id": "viLJbE-1aobc",
        "colab": {
          "base_uri": "https://localhost:8080/"
        },
        "outputId": "2e6b6375-70d8-4a83-8bfc-d9bd86c567f4"
      },
      "outputs": [
        {
          "output_type": "execute_result",
          "data": {
            "text/plain": [
              "['barley', 'corn', 'grain', 'money-fx', 'wheat']"
            ]
          },
          "metadata": {},
          "execution_count": 75
        }
      ],
      "source": [
        "reuters.categories(['training/9865', 'training/9880'])"
      ]
    },
    {
      "cell_type": "code",
      "execution_count": 76,
      "metadata": {
        "id": "Ca8plLmlaobc",
        "colab": {
          "base_uri": "https://localhost:8080/"
        },
        "outputId": "d6c5c225-ec44-452a-f62f-7c11e9eeca29"
      },
      "outputs": [
        {
          "output_type": "execute_result",
          "data": {
            "text/plain": [
              "['test/15618',\n",
              " 'test/15649',\n",
              " 'test/15676',\n",
              " 'test/15728',\n",
              " 'test/15871',\n",
              " 'test/15875',\n",
              " 'test/15952',\n",
              " 'test/17767',\n",
              " 'test/17769',\n",
              " 'test/18024',\n",
              " 'test/18263',\n",
              " 'test/18908',\n",
              " 'test/19275',\n",
              " 'test/19668',\n",
              " 'training/10175',\n",
              " 'training/1067',\n",
              " 'training/11208',\n",
              " 'training/11316',\n",
              " 'training/11885',\n",
              " 'training/12428',\n",
              " 'training/13099',\n",
              " 'training/13744',\n",
              " 'training/13795',\n",
              " 'training/13852',\n",
              " 'training/13856',\n",
              " 'training/1652',\n",
              " 'training/1970',\n",
              " 'training/2044',\n",
              " 'training/2171',\n",
              " 'training/2172',\n",
              " 'training/2191',\n",
              " 'training/2217',\n",
              " 'training/2232',\n",
              " 'training/3132',\n",
              " 'training/3324',\n",
              " 'training/395',\n",
              " 'training/4280',\n",
              " 'training/4296',\n",
              " 'training/5',\n",
              " 'training/501',\n",
              " 'training/5467',\n",
              " 'training/5610',\n",
              " 'training/5640',\n",
              " 'training/6626',\n",
              " 'training/7205',\n",
              " 'training/7579',\n",
              " 'training/8213',\n",
              " 'training/8257',\n",
              " 'training/8759',\n",
              " 'training/9865',\n",
              " 'training/9958']"
            ]
          },
          "metadata": {},
          "execution_count": 76
        }
      ],
      "source": [
        "reuters.fileids('barley')"
      ]
    },
    {
      "cell_type": "markdown",
      "metadata": {
        "id": "5GHfzBXSaobc"
      },
      "source": [
        "#### Similarly, we can specify the words or sentences we want in terms of files or categories. The first handful of words in each of these texts are the titles, which by convention are stored as upper case."
      ]
    },
    {
      "cell_type": "code",
      "execution_count": 77,
      "metadata": {
        "scrolled": true,
        "id": "pOkNE-Xeaobc",
        "colab": {
          "base_uri": "https://localhost:8080/"
        },
        "outputId": "68a25820-23a5-4d4b-d097-ebfef02d50e7"
      },
      "outputs": [
        {
          "output_type": "execute_result",
          "data": {
            "text/plain": [
              "['FRENCH',\n",
              " 'FREE',\n",
              " 'MARKET',\n",
              " 'CEREAL',\n",
              " 'EXPORT',\n",
              " 'BIDS',\n",
              " 'DETAILED',\n",
              " 'French',\n",
              " 'operators',\n",
              " 'have',\n",
              " 'requested',\n",
              " 'licences',\n",
              " 'to',\n",
              " 'export']"
            ]
          },
          "metadata": {},
          "execution_count": 77
        }
      ],
      "source": [
        "reuters.words('training/9865')[:14]"
      ]
    },
    {
      "cell_type": "code",
      "execution_count": 78,
      "metadata": {
        "id": "agVxx_I4aobc",
        "colab": {
          "base_uri": "https://localhost:8080/"
        },
        "outputId": "08feae26-30c6-44c1-af2d-ed0fc106a0e6"
      },
      "outputs": [
        {
          "output_type": "execute_result",
          "data": {
            "text/plain": [
              "['FRENCH', 'FREE', 'MARKET', 'CEREAL', 'EXPORT', ...]"
            ]
          },
          "metadata": {},
          "execution_count": 78
        }
      ],
      "source": [
        "reuters.words(['training/9865', 'training/9880'])"
      ]
    },
    {
      "cell_type": "code",
      "execution_count": 79,
      "metadata": {
        "id": "uRjXp8KXaobc",
        "colab": {
          "base_uri": "https://localhost:8080/"
        },
        "outputId": "f1d36778-dbe4-4807-e413-343831e5175f"
      },
      "outputs": [
        {
          "output_type": "execute_result",
          "data": {
            "text/plain": [
              "['FRENCH', 'FREE', 'MARKET', 'CEREAL', 'EXPORT', ...]"
            ]
          },
          "metadata": {},
          "execution_count": 79
        }
      ],
      "source": [
        "reuters.words(categories='barley')"
      ]
    },
    {
      "cell_type": "code",
      "execution_count": 80,
      "metadata": {
        "id": "OC_1997daobc",
        "colab": {
          "base_uri": "https://localhost:8080/"
        },
        "outputId": "24cea31c-7c49-409d-c0cf-4663b807b423"
      },
      "outputs": [
        {
          "output_type": "execute_result",
          "data": {
            "text/plain": [
              "['THAI', 'TRADE', 'DEFICIT', 'WIDENS', 'IN', 'FIRST', ...]"
            ]
          },
          "metadata": {},
          "execution_count": 80
        }
      ],
      "source": [
        "reuters.words(categories=['barley', 'corn'])"
      ]
    },
    {
      "cell_type": "markdown",
      "metadata": {
        "id": "X4REp0wlaobc"
      },
      "source": [
        "### 1.5   Inaugural Address Corpus"
      ]
    },
    {
      "cell_type": "markdown",
      "metadata": {
        "id": "g9HMTlKwaobc"
      },
      "source": [
        "#### In Chapter 1, we looked at the Inaugural Address Corpus, but treated it as a single text. The graph in fig-inaugural used \"word offset\" as one of the axes; this is the numerical index of the word in the corpus, counting from the first word of the first address. However, the corpus is actually a collection of 55 texts, one for each presidential address. An interesting property of this collection is its time dimension:"
      ]
    },
    {
      "cell_type": "code",
      "execution_count": 81,
      "metadata": {
        "id": "hdIwu1LQaobc"
      },
      "outputs": [],
      "source": [
        "from nltk.corpus import inaugural"
      ]
    },
    {
      "cell_type": "code",
      "execution_count": 82,
      "metadata": {
        "id": "qW7hf85kaobc",
        "colab": {
          "base_uri": "https://localhost:8080/"
        },
        "outputId": "129b54f8-5f6d-44d8-ed7a-0aaee6581362"
      },
      "outputs": [
        {
          "output_type": "execute_result",
          "data": {
            "text/plain": [
              "['1789-Washington.txt',\n",
              " '1793-Washington.txt',\n",
              " '1797-Adams.txt',\n",
              " '1801-Jefferson.txt',\n",
              " '1805-Jefferson.txt',\n",
              " '1809-Madison.txt',\n",
              " '1813-Madison.txt',\n",
              " '1817-Monroe.txt',\n",
              " '1821-Monroe.txt',\n",
              " '1825-Adams.txt',\n",
              " '1829-Jackson.txt',\n",
              " '1833-Jackson.txt',\n",
              " '1837-VanBuren.txt',\n",
              " '1841-Harrison.txt',\n",
              " '1845-Polk.txt',\n",
              " '1849-Taylor.txt',\n",
              " '1853-Pierce.txt',\n",
              " '1857-Buchanan.txt',\n",
              " '1861-Lincoln.txt',\n",
              " '1865-Lincoln.txt',\n",
              " '1869-Grant.txt',\n",
              " '1873-Grant.txt',\n",
              " '1877-Hayes.txt',\n",
              " '1881-Garfield.txt',\n",
              " '1885-Cleveland.txt',\n",
              " '1889-Harrison.txt',\n",
              " '1893-Cleveland.txt',\n",
              " '1897-McKinley.txt',\n",
              " '1901-McKinley.txt',\n",
              " '1905-Roosevelt.txt',\n",
              " '1909-Taft.txt',\n",
              " '1913-Wilson.txt',\n",
              " '1917-Wilson.txt',\n",
              " '1921-Harding.txt',\n",
              " '1925-Coolidge.txt',\n",
              " '1929-Hoover.txt',\n",
              " '1933-Roosevelt.txt',\n",
              " '1937-Roosevelt.txt',\n",
              " '1941-Roosevelt.txt',\n",
              " '1945-Roosevelt.txt',\n",
              " '1949-Truman.txt',\n",
              " '1953-Eisenhower.txt',\n",
              " '1957-Eisenhower.txt',\n",
              " '1961-Kennedy.txt',\n",
              " '1965-Johnson.txt',\n",
              " '1969-Nixon.txt',\n",
              " '1973-Nixon.txt',\n",
              " '1977-Carter.txt',\n",
              " '1981-Reagan.txt',\n",
              " '1985-Reagan.txt',\n",
              " '1989-Bush.txt',\n",
              " '1993-Clinton.txt',\n",
              " '1997-Clinton.txt',\n",
              " '2001-Bush.txt',\n",
              " '2005-Bush.txt',\n",
              " '2009-Obama.txt',\n",
              " '2013-Obama.txt',\n",
              " '2017-Trump.txt',\n",
              " '2021-Biden.txt']"
            ]
          },
          "metadata": {},
          "execution_count": 82
        }
      ],
      "source": [
        "inaugural.fileids()"
      ]
    },
    {
      "cell_type": "markdown",
      "metadata": {
        "id": "uZ6e3BC8aobc"
      },
      "source": [
        "#### Notice that the year of each text appears in its filename. To get the year out of the filename, we extracted the first four characters, using fileid[:4]."
      ]
    },
    {
      "cell_type": "code",
      "execution_count": 83,
      "metadata": {
        "id": "WhL6oETaaobc",
        "colab": {
          "base_uri": "https://localhost:8080/"
        },
        "outputId": "4affd362-77e3-40d8-ba9c-7a5e52ea7d3c"
      },
      "outputs": [
        {
          "output_type": "execute_result",
          "data": {
            "text/plain": [
              "['1789',\n",
              " '1793',\n",
              " '1797',\n",
              " '1801',\n",
              " '1805',\n",
              " '1809',\n",
              " '1813',\n",
              " '1817',\n",
              " '1821',\n",
              " '1825',\n",
              " '1829',\n",
              " '1833',\n",
              " '1837',\n",
              " '1841',\n",
              " '1845',\n",
              " '1849',\n",
              " '1853',\n",
              " '1857',\n",
              " '1861',\n",
              " '1865',\n",
              " '1869',\n",
              " '1873',\n",
              " '1877',\n",
              " '1881',\n",
              " '1885',\n",
              " '1889',\n",
              " '1893',\n",
              " '1897',\n",
              " '1901',\n",
              " '1905',\n",
              " '1909',\n",
              " '1913',\n",
              " '1917',\n",
              " '1921',\n",
              " '1925',\n",
              " '1929',\n",
              " '1933',\n",
              " '1937',\n",
              " '1941',\n",
              " '1945',\n",
              " '1949',\n",
              " '1953',\n",
              " '1957',\n",
              " '1961',\n",
              " '1965',\n",
              " '1969',\n",
              " '1973',\n",
              " '1977',\n",
              " '1981',\n",
              " '1985',\n",
              " '1989',\n",
              " '1993',\n",
              " '1997',\n",
              " '2001',\n",
              " '2005',\n",
              " '2009',\n",
              " '2013',\n",
              " '2017',\n",
              " '2021']"
            ]
          },
          "metadata": {},
          "execution_count": 83
        }
      ],
      "source": [
        "[fileid[:4] for fileid in inaugural.fileids()]"
      ]
    },
    {
      "cell_type": "markdown",
      "metadata": {
        "id": "mLK-LqXKaobd"
      },
      "source": [
        "#### Let's look at how the words America and citizen are used over time.The following code converts the words in the Inaugural corpus to lowercase using w.lower(), then checks if they start with either of the \"targets\" america or citizen using startswith(). Thus it will count words like American's and Citizens."
      ]
    },
    {
      "cell_type": "markdown",
      "metadata": {
        "id": "U7IiC9kdaobd"
      },
      "source": [
        "#### The condition is either of the words america or citizen, and the counts being plotted are the number of times the word occured in a particular speech. (See Slides)"
      ]
    },
    {
      "cell_type": "code",
      "execution_count": 84,
      "metadata": {
        "id": "VC9atxb6aobd"
      },
      "outputs": [],
      "source": [
        "import nltk"
      ]
    },
    {
      "cell_type": "code",
      "execution_count": 85,
      "metadata": {
        "id": "lbdZlvXRaobd"
      },
      "outputs": [],
      "source": [
        "cfd = nltk.ConditionalFreqDist(\n",
        "              (target,fileid[:4])\n",
        "              for fileid in inaugural.fileids()\n",
        "              for w in inaugural.words(fileid)\n",
        "              for target in ['america', 'citizen']\n",
        "              if w.lower().startswith(target))"
      ]
    },
    {
      "cell_type": "code",
      "execution_count": 86,
      "metadata": {
        "scrolled": true,
        "id": "8uK5qel1aobd",
        "colab": {
          "base_uri": "https://localhost:8080/"
        },
        "outputId": "2fba3f40-b3be-4b85-fab0-8cbbfd544d48"
      },
      "outputs": [
        {
          "output_type": "stream",
          "name": "stdout",
          "text": [
            "        1789 1793 1797 1801 1805 1809 1813 1817 1821 1825 1829 1833 1837 1841 1845 1849 1853 1857 1861 1865 1869 1873 1877 1881 1885 1889 1893 1897 1901 1905 1909 1917 1921 1925 1929 1933 1937 1941 1945 1949 1953 1957 1961 1965 1969 1973 1977 1981 1985 1989 1993 1997 2001 2005 2009 2013 2017 2021 \n",
            "america    2    1    8    0    1    0    1    1    2    0    0    2    2    7    0    2    2    3    2    1    0    0    1    2    4    6    9    9    7    0   12    4   24   11   12    2    5   12    2    4    6    7    7   10   10   23    5   16   21   11   33   31   20   30   15   19   35   40 \n",
            "citizen    5    1    6    7   10    1    4   14   15    3    2    3    7   38   11    2    4    7    7    0    5    3    9    9   13   12   10   10    2    1    6    3    6    5   12    1    2    1    1    1    7    0    5    4    1    1    0    3    6    3    2   10   11    7    2    8    4    1 \n"
          ]
        }
      ],
      "source": [
        "cfd.tabulate()"
      ]
    },
    {
      "cell_type": "code",
      "execution_count": 87,
      "metadata": {
        "id": "oz2RfDhyaobd"
      },
      "outputs": [],
      "source": [
        "from matplotlib import pyplot as plt"
      ]
    },
    {
      "cell_type": "code",
      "execution_count": 88,
      "metadata": {
        "id": "-erjfOfQaobd",
        "colab": {
          "base_uri": "https://localhost:8080/",
          "height": 488
        },
        "outputId": "88510d8e-a005-46c7-c586-edabcb12e6cf"
      },
      "outputs": [
        {
          "output_type": "display_data",
          "data": {
            "text/plain": [
              "<Figure size 640x480 with 1 Axes>"
            ],
            "image/png": "[encoded data removed]"
          },
          "metadata": {}
        },
        {
          "output_type": "execute_result",
          "data": {
            "text/plain": [
              "<Axes: xlabel='Samples', ylabel='Counts'>"
            ]
          },
          "metadata": {},
          "execution_count": 88
        }
      ],
      "source": [
        "cfd.plot()"
      ]
    },
    {
      "cell_type": "markdown",
      "metadata": {
        "id": "1alQIxABaobd"
      },
      "source": [
        "####  As we can see from the chart, the word citizen used most frequently in 1841. The word “America” used most frequently in 2021"
      ]
    },
    {
      "cell_type": "code",
      "execution_count": 89,
      "metadata": {
        "id": "CPosg1Euaobd",
        "colab": {
          "base_uri": "https://localhost:8080/",
          "height": 35
        },
        "outputId": "6c026659-f4cc-422e-fc4c-b644eaf41381"
      },
      "outputs": [
        {
          "output_type": "execute_result",
          "data": {
            "text/plain": [
              "'1841'"
            ],
            "application/vnd.google.colaboratory.intrinsic+json": {
              "type": "string"
            }
          },
          "metadata": {},
          "execution_count": 89
        }
      ],
      "source": [
        "cfd['citizen'].max()"
      ]
    },
    {
      "cell_type": "code",
      "execution_count": 90,
      "metadata": {
        "id": "fBHFT3OEaobd",
        "colab": {
          "base_uri": "https://localhost:8080/",
          "height": 35
        },
        "outputId": "f03442e5-4721-4096-cf5c-97b17a886f86"
      },
      "outputs": [
        {
          "output_type": "execute_result",
          "data": {
            "text/plain": [
              "'2021'"
            ],
            "application/vnd.google.colaboratory.intrinsic+json": {
              "type": "string"
            }
          },
          "metadata": {},
          "execution_count": 90
        }
      ],
      "source": [
        "cfd['america'].max()"
      ]
    },
    {
      "cell_type": "markdown",
      "metadata": {
        "id": "_UYgZhI7aobd"
      },
      "source": [
        "### 1.6   Annotated Text Corpora (See Slides)"
      ]
    },
    {
      "cell_type": "markdown",
      "metadata": {
        "id": "9GPWd7keaobd"
      },
      "source": [
        "### 1.7   Text Corpus Structure (See Slides)"
      ]
    },
    {
      "cell_type": "markdown",
      "metadata": {
        "id": "4KF-x3o_aobd"
      },
      "source": [
        "#### NLTK's corpus readers support efficient access to a variety of corpora, and can be used to work with new corpora. 1.3 lists functionality provided by the corpus readers. We illustrate the difference between some of the corpus access methods below:"
      ]
    },
    {
      "cell_type": "code",
      "execution_count": null,
      "metadata": {
        "id": "CKPngUwZaobd"
      },
      "outputs": [],
      "source": [
        "#Example\tDescription\n",
        "#fileids()\tthe files of the corpus\n",
        "#fileids([categories])\tthe files of the corpus corresponding to these categories\n",
        "#categories()\tthe categories of the corpus\n",
        "#categories([fileids])\tthe categories of the corpus corresponding to these files\n",
        "#raw()\tthe raw content of the corpus\n",
        "#raw(fileids=[f1,f2,f3])\tthe raw content of the specified files\n",
        "#raw(categories=[c1,c2])\tthe raw content of the specified categories\n",
        "#words()\tthe words of the whole corpus\n",
        "#words(fileids=[f1,f2,f3])\tthe words of the specified fileids\n",
        "#words(categories=[c1,c2])\tthe words of the specified categories\n",
        "#sents()\tthe sentences of the whole corpus\n",
        "#sents(fileids=[f1,f2,f3])\tthe sentences of the specified fileids\n",
        "#sents(categories=[c1,c2])\tthe sentences of the specified categories\n",
        "#abspath(fileid)\tthe location of the given file on disk\n",
        "#encoding(fileid)\tthe encoding of the file (if known)\n",
        "#open(fileid)\topen a stream for reading the given corpus file\n",
        "#root\tif the path to the root of locally installed corpus\n",
        "#readme()\tthe contents of the README file of the corpus"
      ]
    },
    {
      "cell_type": "code",
      "execution_count": 91,
      "metadata": {
        "id": "_UEoLbR6aobe"
      },
      "outputs": [],
      "source": [
        "#fileids() example:"
      ]
    },
    {
      "cell_type": "code",
      "execution_count": 92,
      "metadata": {
        "id": "jZMOKfD_aobe",
        "colab": {
          "base_uri": "https://localhost:8080/"
        },
        "outputId": "a182b776-577e-429e-d166-bfee79da6a09"
      },
      "outputs": [
        {
          "output_type": "execute_result",
          "data": {
            "text/plain": [
              "['ca01',\n",
              " 'ca02',\n",
              " 'ca03',\n",
              " 'ca04',\n",
              " 'ca05',\n",
              " 'ca06',\n",
              " 'ca07',\n",
              " 'ca08',\n",
              " 'ca09',\n",
              " 'ca10',\n",
              " 'ca11',\n",
              " 'ca12',\n",
              " 'ca13',\n",
              " 'ca14',\n",
              " 'ca15',\n",
              " 'ca16',\n",
              " 'ca17',\n",
              " 'ca18',\n",
              " 'ca19',\n",
              " 'ca20',\n",
              " 'ca21',\n",
              " 'ca22',\n",
              " 'ca23',\n",
              " 'ca24',\n",
              " 'ca25',\n",
              " 'ca26',\n",
              " 'ca27',\n",
              " 'ca28',\n",
              " 'ca29',\n",
              " 'ca30',\n",
              " 'ca31',\n",
              " 'ca32',\n",
              " 'ca33',\n",
              " 'ca34',\n",
              " 'ca35',\n",
              " 'ca36',\n",
              " 'ca37',\n",
              " 'ca38',\n",
              " 'ca39',\n",
              " 'ca40',\n",
              " 'ca41',\n",
              " 'ca42',\n",
              " 'ca43',\n",
              " 'ca44',\n",
              " 'cb01',\n",
              " 'cb02',\n",
              " 'cb03',\n",
              " 'cb04',\n",
              " 'cb05',\n",
              " 'cb06',\n",
              " 'cb07',\n",
              " 'cb08',\n",
              " 'cb09',\n",
              " 'cb10',\n",
              " 'cb11',\n",
              " 'cb12',\n",
              " 'cb13',\n",
              " 'cb14',\n",
              " 'cb15',\n",
              " 'cb16',\n",
              " 'cb17',\n",
              " 'cb18',\n",
              " 'cb19',\n",
              " 'cb20',\n",
              " 'cb21',\n",
              " 'cb22',\n",
              " 'cb23',\n",
              " 'cb24',\n",
              " 'cb25',\n",
              " 'cb26',\n",
              " 'cb27',\n",
              " 'cc01',\n",
              " 'cc02',\n",
              " 'cc03',\n",
              " 'cc04',\n",
              " 'cc05',\n",
              " 'cc06',\n",
              " 'cc07',\n",
              " 'cc08',\n",
              " 'cc09',\n",
              " 'cc10',\n",
              " 'cc11',\n",
              " 'cc12',\n",
              " 'cc13',\n",
              " 'cc14',\n",
              " 'cc15',\n",
              " 'cc16',\n",
              " 'cc17',\n",
              " 'cd01',\n",
              " 'cd02',\n",
              " 'cd03',\n",
              " 'cd04',\n",
              " 'cd05',\n",
              " 'cd06',\n",
              " 'cd07',\n",
              " 'cd08',\n",
              " 'cd09',\n",
              " 'cd10',\n",
              " 'cd11',\n",
              " 'cd12',\n",
              " 'cd13',\n",
              " 'cd14',\n",
              " 'cd15',\n",
              " 'cd16',\n",
              " 'cd17',\n",
              " 'ce01',\n",
              " 'ce02',\n",
              " 'ce03',\n",
              " 'ce04',\n",
              " 'ce05',\n",
              " 'ce06',\n",
              " 'ce07',\n",
              " 'ce08',\n",
              " 'ce09',\n",
              " 'ce10',\n",
              " 'ce11',\n",
              " 'ce12',\n",
              " 'ce13',\n",
              " 'ce14',\n",
              " 'ce15',\n",
              " 'ce16',\n",
              " 'ce17',\n",
              " 'ce18',\n",
              " 'ce19',\n",
              " 'ce20',\n",
              " 'ce21',\n",
              " 'ce22',\n",
              " 'ce23',\n",
              " 'ce24',\n",
              " 'ce25',\n",
              " 'ce26',\n",
              " 'ce27',\n",
              " 'ce28',\n",
              " 'ce29',\n",
              " 'ce30',\n",
              " 'ce31',\n",
              " 'ce32',\n",
              " 'ce33',\n",
              " 'ce34',\n",
              " 'ce35',\n",
              " 'ce36',\n",
              " 'cf01',\n",
              " 'cf02',\n",
              " 'cf03',\n",
              " 'cf04',\n",
              " 'cf05',\n",
              " 'cf06',\n",
              " 'cf07',\n",
              " 'cf08',\n",
              " 'cf09',\n",
              " 'cf10',\n",
              " 'cf11',\n",
              " 'cf12',\n",
              " 'cf13',\n",
              " 'cf14',\n",
              " 'cf15',\n",
              " 'cf16',\n",
              " 'cf17',\n",
              " 'cf18',\n",
              " 'cf19',\n",
              " 'cf20',\n",
              " 'cf21',\n",
              " 'cf22',\n",
              " 'cf23',\n",
              " 'cf24',\n",
              " 'cf25',\n",
              " 'cf26',\n",
              " 'cf27',\n",
              " 'cf28',\n",
              " 'cf29',\n",
              " 'cf30',\n",
              " 'cf31',\n",
              " 'cf32',\n",
              " 'cf33',\n",
              " 'cf34',\n",
              " 'cf35',\n",
              " 'cf36',\n",
              " 'cf37',\n",
              " 'cf38',\n",
              " 'cf39',\n",
              " 'cf40',\n",
              " 'cf41',\n",
              " 'cf42',\n",
              " 'cf43',\n",
              " 'cf44',\n",
              " 'cf45',\n",
              " 'cf46',\n",
              " 'cf47',\n",
              " 'cf48',\n",
              " 'cg01',\n",
              " 'cg02',\n",
              " 'cg03',\n",
              " 'cg04',\n",
              " 'cg05',\n",
              " 'cg06',\n",
              " 'cg07',\n",
              " 'cg08',\n",
              " 'cg09',\n",
              " 'cg10',\n",
              " 'cg11',\n",
              " 'cg12',\n",
              " 'cg13',\n",
              " 'cg14',\n",
              " 'cg15',\n",
              " 'cg16',\n",
              " 'cg17',\n",
              " 'cg18',\n",
              " 'cg19',\n",
              " 'cg20',\n",
              " 'cg21',\n",
              " 'cg22',\n",
              " 'cg23',\n",
              " 'cg24',\n",
              " 'cg25',\n",
              " 'cg26',\n",
              " 'cg27',\n",
              " 'cg28',\n",
              " 'cg29',\n",
              " 'cg30',\n",
              " 'cg31',\n",
              " 'cg32',\n",
              " 'cg33',\n",
              " 'cg34',\n",
              " 'cg35',\n",
              " 'cg36',\n",
              " 'cg37',\n",
              " 'cg38',\n",
              " 'cg39',\n",
              " 'cg40',\n",
              " 'cg41',\n",
              " 'cg42',\n",
              " 'cg43',\n",
              " 'cg44',\n",
              " 'cg45',\n",
              " 'cg46',\n",
              " 'cg47',\n",
              " 'cg48',\n",
              " 'cg49',\n",
              " 'cg50',\n",
              " 'cg51',\n",
              " 'cg52',\n",
              " 'cg53',\n",
              " 'cg54',\n",
              " 'cg55',\n",
              " 'cg56',\n",
              " 'cg57',\n",
              " 'cg58',\n",
              " 'cg59',\n",
              " 'cg60',\n",
              " 'cg61',\n",
              " 'cg62',\n",
              " 'cg63',\n",
              " 'cg64',\n",
              " 'cg65',\n",
              " 'cg66',\n",
              " 'cg67',\n",
              " 'cg68',\n",
              " 'cg69',\n",
              " 'cg70',\n",
              " 'cg71',\n",
              " 'cg72',\n",
              " 'cg73',\n",
              " 'cg74',\n",
              " 'cg75',\n",
              " 'ch01',\n",
              " 'ch02',\n",
              " 'ch03',\n",
              " 'ch04',\n",
              " 'ch05',\n",
              " 'ch06',\n",
              " 'ch07',\n",
              " 'ch08',\n",
              " 'ch09',\n",
              " 'ch10',\n",
              " 'ch11',\n",
              " 'ch12',\n",
              " 'ch13',\n",
              " 'ch14',\n",
              " 'ch15',\n",
              " 'ch16',\n",
              " 'ch17',\n",
              " 'ch18',\n",
              " 'ch19',\n",
              " 'ch20',\n",
              " 'ch21',\n",
              " 'ch22',\n",
              " 'ch23',\n",
              " 'ch24',\n",
              " 'ch25',\n",
              " 'ch26',\n",
              " 'ch27',\n",
              " 'ch28',\n",
              " 'ch29',\n",
              " 'ch30',\n",
              " 'cj01',\n",
              " 'cj02',\n",
              " 'cj03',\n",
              " 'cj04',\n",
              " 'cj05',\n",
              " 'cj06',\n",
              " 'cj07',\n",
              " 'cj08',\n",
              " 'cj09',\n",
              " 'cj10',\n",
              " 'cj11',\n",
              " 'cj12',\n",
              " 'cj13',\n",
              " 'cj14',\n",
              " 'cj15',\n",
              " 'cj16',\n",
              " 'cj17',\n",
              " 'cj18',\n",
              " 'cj19',\n",
              " 'cj20',\n",
              " 'cj21',\n",
              " 'cj22',\n",
              " 'cj23',\n",
              " 'cj24',\n",
              " 'cj25',\n",
              " 'cj26',\n",
              " 'cj27',\n",
              " 'cj28',\n",
              " 'cj29',\n",
              " 'cj30',\n",
              " 'cj31',\n",
              " 'cj32',\n",
              " 'cj33',\n",
              " 'cj34',\n",
              " 'cj35',\n",
              " 'cj36',\n",
              " 'cj37',\n",
              " 'cj38',\n",
              " 'cj39',\n",
              " 'cj40',\n",
              " 'cj41',\n",
              " 'cj42',\n",
              " 'cj43',\n",
              " 'cj44',\n",
              " 'cj45',\n",
              " 'cj46',\n",
              " 'cj47',\n",
              " 'cj48',\n",
              " 'cj49',\n",
              " 'cj50',\n",
              " 'cj51',\n",
              " 'cj52',\n",
              " 'cj53',\n",
              " 'cj54',\n",
              " 'cj55',\n",
              " 'cj56',\n",
              " 'cj57',\n",
              " 'cj58',\n",
              " 'cj59',\n",
              " 'cj60',\n",
              " 'cj61',\n",
              " 'cj62',\n",
              " 'cj63',\n",
              " 'cj64',\n",
              " 'cj65',\n",
              " 'cj66',\n",
              " 'cj67',\n",
              " 'cj68',\n",
              " 'cj69',\n",
              " 'cj70',\n",
              " 'cj71',\n",
              " 'cj72',\n",
              " 'cj73',\n",
              " 'cj74',\n",
              " 'cj75',\n",
              " 'cj76',\n",
              " 'cj77',\n",
              " 'cj78',\n",
              " 'cj79',\n",
              " 'cj80',\n",
              " 'ck01',\n",
              " 'ck02',\n",
              " 'ck03',\n",
              " 'ck04',\n",
              " 'ck05',\n",
              " 'ck06',\n",
              " 'ck07',\n",
              " 'ck08',\n",
              " 'ck09',\n",
              " 'ck10',\n",
              " 'ck11',\n",
              " 'ck12',\n",
              " 'ck13',\n",
              " 'ck14',\n",
              " 'ck15',\n",
              " 'ck16',\n",
              " 'ck17',\n",
              " 'ck18',\n",
              " 'ck19',\n",
              " 'ck20',\n",
              " 'ck21',\n",
              " 'ck22',\n",
              " 'ck23',\n",
              " 'ck24',\n",
              " 'ck25',\n",
              " 'ck26',\n",
              " 'ck27',\n",
              " 'ck28',\n",
              " 'ck29',\n",
              " 'cl01',\n",
              " 'cl02',\n",
              " 'cl03',\n",
              " 'cl04',\n",
              " 'cl05',\n",
              " 'cl06',\n",
              " 'cl07',\n",
              " 'cl08',\n",
              " 'cl09',\n",
              " 'cl10',\n",
              " 'cl11',\n",
              " 'cl12',\n",
              " 'cl13',\n",
              " 'cl14',\n",
              " 'cl15',\n",
              " 'cl16',\n",
              " 'cl17',\n",
              " 'cl18',\n",
              " 'cl19',\n",
              " 'cl20',\n",
              " 'cl21',\n",
              " 'cl22',\n",
              " 'cl23',\n",
              " 'cl24',\n",
              " 'cm01',\n",
              " 'cm02',\n",
              " 'cm03',\n",
              " 'cm04',\n",
              " 'cm05',\n",
              " 'cm06',\n",
              " 'cn01',\n",
              " 'cn02',\n",
              " 'cn03',\n",
              " 'cn04',\n",
              " 'cn05',\n",
              " 'cn06',\n",
              " 'cn07',\n",
              " 'cn08',\n",
              " 'cn09',\n",
              " 'cn10',\n",
              " 'cn11',\n",
              " 'cn12',\n",
              " 'cn13',\n",
              " 'cn14',\n",
              " 'cn15',\n",
              " 'cn16',\n",
              " 'cn17',\n",
              " 'cn18',\n",
              " 'cn19',\n",
              " 'cn20',\n",
              " 'cn21',\n",
              " 'cn22',\n",
              " 'cn23',\n",
              " 'cn24',\n",
              " 'cn25',\n",
              " 'cn26',\n",
              " 'cn27',\n",
              " 'cn28',\n",
              " 'cn29',\n",
              " 'cp01',\n",
              " 'cp02',\n",
              " 'cp03',\n",
              " 'cp04',\n",
              " 'cp05',\n",
              " 'cp06',\n",
              " 'cp07',\n",
              " 'cp08',\n",
              " 'cp09',\n",
              " 'cp10',\n",
              " 'cp11',\n",
              " 'cp12',\n",
              " 'cp13',\n",
              " 'cp14',\n",
              " 'cp15',\n",
              " 'cp16',\n",
              " 'cp17',\n",
              " 'cp18',\n",
              " 'cp19',\n",
              " 'cp20',\n",
              " 'cp21',\n",
              " 'cp22',\n",
              " 'cp23',\n",
              " 'cp24',\n",
              " 'cp25',\n",
              " 'cp26',\n",
              " 'cp27',\n",
              " 'cp28',\n",
              " 'cp29',\n",
              " 'cr01',\n",
              " 'cr02',\n",
              " 'cr03',\n",
              " 'cr04',\n",
              " 'cr05',\n",
              " 'cr06',\n",
              " 'cr07',\n",
              " 'cr08',\n",
              " 'cr09']"
            ]
          },
          "metadata": {},
          "execution_count": 92
        }
      ],
      "source": [
        "brown.fileids()"
      ]
    },
    {
      "cell_type": "code",
      "execution_count": null,
      "metadata": {
        "id": "ALzlxROmaobe"
      },
      "outputs": [],
      "source": [
        "# fileids([categories])  example:"
      ]
    },
    {
      "cell_type": "code",
      "execution_count": 93,
      "metadata": {
        "id": "ctaK5CNsaobe",
        "colab": {
          "base_uri": "https://localhost:8080/"
        },
        "outputId": "40055a04-1465-44ee-837c-ea0d89683672"
      },
      "outputs": [
        {
          "output_type": "execute_result",
          "data": {
            "text/plain": [
              "['ca01',\n",
              " 'ca02',\n",
              " 'ca03',\n",
              " 'ca04',\n",
              " 'ca05',\n",
              " 'ca06',\n",
              " 'ca07',\n",
              " 'ca08',\n",
              " 'ca09',\n",
              " 'ca10',\n",
              " 'ca11',\n",
              " 'ca12',\n",
              " 'ca13',\n",
              " 'ca14',\n",
              " 'ca15',\n",
              " 'ca16',\n",
              " 'ca17',\n",
              " 'ca18',\n",
              " 'ca19',\n",
              " 'ca20',\n",
              " 'ca21',\n",
              " 'ca22',\n",
              " 'ca23',\n",
              " 'ca24',\n",
              " 'ca25',\n",
              " 'ca26',\n",
              " 'ca27',\n",
              " 'ca28',\n",
              " 'ca29',\n",
              " 'ca30',\n",
              " 'ca31',\n",
              " 'ca32',\n",
              " 'ca33',\n",
              " 'ca34',\n",
              " 'ca35',\n",
              " 'ca36',\n",
              " 'ca37',\n",
              " 'ca38',\n",
              " 'ca39',\n",
              " 'ca40',\n",
              " 'ca41',\n",
              " 'ca42',\n",
              " 'ca43',\n",
              " 'ca44']"
            ]
          },
          "metadata": {},
          "execution_count": 93
        }
      ],
      "source": [
        "brown.fileids(categories='news')"
      ]
    },
    {
      "cell_type": "code",
      "execution_count": null,
      "metadata": {
        "id": "LR6GnjHPaobe"
      },
      "outputs": [],
      "source": [
        "# categories()"
      ]
    },
    {
      "cell_type": "code",
      "execution_count": 94,
      "metadata": {
        "id": "tGbCL3zraobe",
        "colab": {
          "base_uri": "https://localhost:8080/"
        },
        "outputId": "de336288-00b9-4ca2-d69d-f9d147a3b6f6"
      },
      "outputs": [
        {
          "output_type": "execute_result",
          "data": {
            "text/plain": [
              "['adventure',\n",
              " 'belles_lettres',\n",
              " 'editorial',\n",
              " 'fiction',\n",
              " 'government',\n",
              " 'hobbies',\n",
              " 'humor',\n",
              " 'learned',\n",
              " 'lore',\n",
              " 'mystery',\n",
              " 'news',\n",
              " 'religion',\n",
              " 'reviews',\n",
              " 'romance',\n",
              " 'science_fiction']"
            ]
          },
          "metadata": {},
          "execution_count": 94
        }
      ],
      "source": [
        "brown.categories()"
      ]
    },
    {
      "cell_type": "code",
      "execution_count": null,
      "metadata": {
        "id": "kSCIonSTaobe"
      },
      "outputs": [],
      "source": [
        "# categories.fileids() example"
      ]
    },
    {
      "cell_type": "code",
      "execution_count": 95,
      "metadata": {
        "id": "Nsd-LrKOaobe",
        "colab": {
          "base_uri": "https://localhost:8080/"
        },
        "outputId": "4c865a50-3bef-4e03-97b6-f826c1996cfa"
      },
      "outputs": [
        {
          "output_type": "execute_result",
          "data": {
            "text/plain": [
              "['barley', 'corn', 'grain', 'wheat']"
            ]
          },
          "metadata": {},
          "execution_count": 95
        }
      ],
      "source": [
        "reuters.categories('training/9865')"
      ]
    },
    {
      "cell_type": "code",
      "execution_count": null,
      "metadata": {
        "id": "Tzv_0tBnaobe"
      },
      "outputs": [],
      "source": [
        "# raw()\n",
        "# raw(fileids=[f1,f2,f3])\n",
        "# raw(categories)\n",
        "\n",
        "# then I change raw to words, sents"
      ]
    },
    {
      "cell_type": "code",
      "execution_count": 96,
      "metadata": {
        "id": "8K6gRKv3aobe",
        "colab": {
          "base_uri": "https://localhost:8080/"
        },
        "outputId": "c8419745-9430-4f5c-8d63-5fe1b9a64431"
      },
      "outputs": [
        {
          "output_type": "execute_result",
          "data": {
            "text/plain": [
              "[['The', 'Fulton', 'County', 'Grand', 'Jury', 'said', 'Friday', 'an', 'investigation', 'of', \"Atlanta's\", 'recent', 'primary', 'election', 'produced', '``', 'no', 'evidence', \"''\", 'that', 'any', 'irregularities', 'took', 'place', '.'], ['The', 'jury', 'further', 'said', 'in', 'term-end', 'presentments', 'that', 'the', 'City', 'Executive', 'Committee', ',', 'which', 'had', 'over-all', 'charge', 'of', 'the', 'election', ',', '``', 'deserves', 'the', 'praise', 'and', 'thanks', 'of', 'the', 'City', 'of', 'Atlanta', \"''\", 'for', 'the', 'manner', 'in', 'which', 'the', 'election', 'was', 'conducted', '.'], ...]"
            ]
          },
          "metadata": {},
          "execution_count": 96
        }
      ],
      "source": [
        "brown.sents(fileids=['ca01'])"
      ]
    },
    {
      "cell_type": "code",
      "execution_count": 97,
      "metadata": {
        "id": "0qY5-29Iaobe",
        "colab": {
          "base_uri": "https://localhost:8080/"
        },
        "outputId": "e78305f4-8b80-435a-f565-c1f8fae3afb4"
      },
      "outputs": [
        {
          "output_type": "execute_result",
          "data": {
            "text/plain": [
              "[['The', 'Fulton', 'County', 'Grand', 'Jury', 'said', 'Friday', 'an', 'investigation', 'of', \"Atlanta's\", 'recent', 'primary', 'election', 'produced', '``', 'no', 'evidence', \"''\", 'that', 'any', 'irregularities', 'took', 'place', '.'], ['The', 'jury', 'further', 'said', 'in', 'term-end', 'presentments', 'that', 'the', 'City', 'Executive', 'Committee', ',', 'which', 'had', 'over-all', 'charge', 'of', 'the', 'election', ',', '``', 'deserves', 'the', 'praise', 'and', 'thanks', 'of', 'the', 'City', 'of', 'Atlanta', \"''\", 'for', 'the', 'manner', 'in', 'which', 'the', 'election', 'was', 'conducted', '.'], ...]"
            ]
          },
          "metadata": {},
          "execution_count": 97
        }
      ],
      "source": [
        "brown.sents(categories=[\"news\",\"reviews\"])"
      ]
    },
    {
      "cell_type": "code",
      "execution_count": null,
      "metadata": {
        "id": "PYm2Dotiaobe"
      },
      "outputs": [],
      "source": [
        "# isolated corpus"
      ]
    },
    {
      "cell_type": "code",
      "execution_count": 98,
      "metadata": {
        "id": "25-DTjLNaobe"
      },
      "outputs": [],
      "source": [
        "raw = gutenberg.raw(\"burgess-busterbrown.txt\")"
      ]
    },
    {
      "cell_type": "code",
      "execution_count": 99,
      "metadata": {
        "id": "PLEgWOsoaobe",
        "colab": {
          "base_uri": "https://localhost:8080/",
          "height": 35
        },
        "outputId": "e28eb0aa-6f5a-4d1a-d5e4-37300655bb63"
      },
      "outputs": [
        {
          "output_type": "execute_result",
          "data": {
            "text/plain": [
              "'The Adventures of B'"
            ],
            "application/vnd.google.colaboratory.intrinsic+json": {
              "type": "string"
            }
          },
          "metadata": {},
          "execution_count": 99
        }
      ],
      "source": [
        "raw[1:20]"
      ]
    },
    {
      "cell_type": "code",
      "execution_count": 100,
      "metadata": {
        "id": "ueQeF-2Kaobe"
      },
      "outputs": [],
      "source": [
        "words = gutenberg.words(\"burgess-busterbrown.txt\")"
      ]
    },
    {
      "cell_type": "code",
      "execution_count": 101,
      "metadata": {
        "scrolled": true,
        "id": "1MxJEx2Kaobe",
        "colab": {
          "base_uri": "https://localhost:8080/"
        },
        "outputId": "bd6ca4ef-229c-4742-d4b5-c4c13904fabd"
      },
      "outputs": [
        {
          "output_type": "execute_result",
          "data": {
            "text/plain": [
              "['The',\n",
              " 'Adventures',\n",
              " 'of',\n",
              " 'Buster',\n",
              " 'Bear',\n",
              " 'by',\n",
              " 'Thornton',\n",
              " 'W',\n",
              " '.',\n",
              " 'Burgess',\n",
              " '1920',\n",
              " ']',\n",
              " 'I',\n",
              " 'BUSTER',\n",
              " 'BEAR',\n",
              " 'GOES',\n",
              " 'FISHING',\n",
              " 'Buster',\n",
              " 'Bear']"
            ]
          },
          "metadata": {},
          "execution_count": 101
        }
      ],
      "source": [
        " words[1:20]"
      ]
    },
    {
      "cell_type": "code",
      "execution_count": 102,
      "metadata": {
        "id": "fPvaiw1gaobe"
      },
      "outputs": [],
      "source": [
        "sents = gutenberg.sents(\"burgess-busterbrown.txt\")"
      ]
    },
    {
      "cell_type": "code",
      "execution_count": 103,
      "metadata": {
        "id": "lI-6iGfiaobf",
        "colab": {
          "base_uri": "https://localhost:8080/"
        },
        "outputId": "8fbb12f7-38d0-4ecf-8e96-92363a31d6f9"
      },
      "outputs": [
        {
          "output_type": "execute_result",
          "data": {
            "text/plain": [
              "[['I'],\n",
              " ['BUSTER', 'BEAR', 'GOES', 'FISHING'],\n",
              " ['Buster',\n",
              "  'Bear',\n",
              "  'yawned',\n",
              "  'as',\n",
              "  'he',\n",
              "  'lay',\n",
              "  'on',\n",
              "  'his',\n",
              "  'comfortable',\n",
              "  'bed',\n",
              "  'of',\n",
              "  'leaves',\n",
              "  'and',\n",
              "  'watched',\n",
              "  'the',\n",
              "  'first',\n",
              "  'early',\n",
              "  'morning',\n",
              "  'sunbeams',\n",
              "  'creeping',\n",
              "  'through',\n",
              "  'the',\n",
              "  'Green',\n",
              "  'Forest',\n",
              "  'to',\n",
              "  'chase',\n",
              "  'out',\n",
              "  'the',\n",
              "  'Black',\n",
              "  'Shadows',\n",
              "  '.'],\n",
              " ['Once',\n",
              "  'more',\n",
              "  'he',\n",
              "  'yawned',\n",
              "  ',',\n",
              "  'and',\n",
              "  'slowly',\n",
              "  'got',\n",
              "  'to',\n",
              "  'his',\n",
              "  'feet',\n",
              "  'and',\n",
              "  'shook',\n",
              "  'himself',\n",
              "  '.'],\n",
              " ['Then',\n",
              "  'he',\n",
              "  'walked',\n",
              "  'over',\n",
              "  'to',\n",
              "  'a',\n",
              "  'big',\n",
              "  'pine',\n",
              "  '-',\n",
              "  'tree',\n",
              "  ',',\n",
              "  'stood',\n",
              "  'up',\n",
              "  'on',\n",
              "  'his',\n",
              "  'hind',\n",
              "  'legs',\n",
              "  ',',\n",
              "  'reached',\n",
              "  'as',\n",
              "  'high',\n",
              "  'up',\n",
              "  'on',\n",
              "  'the',\n",
              "  'trunk',\n",
              "  'of',\n",
              "  'the',\n",
              "  'tree',\n",
              "  'as',\n",
              "  'he',\n",
              "  'could',\n",
              "  ',',\n",
              "  'and',\n",
              "  'scratched',\n",
              "  'the',\n",
              "  'bark',\n",
              "  'with',\n",
              "  'his',\n",
              "  'great',\n",
              "  'claws',\n",
              "  '.'],\n",
              " ['After',\n",
              "  'that',\n",
              "  'he',\n",
              "  'yawned',\n",
              "  'until',\n",
              "  'it',\n",
              "  'seemed',\n",
              "  'as',\n",
              "  'if',\n",
              "  'his',\n",
              "  'jaws',\n",
              "  'would',\n",
              "  'crack',\n",
              "  ',',\n",
              "  'and',\n",
              "  'then',\n",
              "  'sat',\n",
              "  'down',\n",
              "  'to',\n",
              "  'think',\n",
              "  'what',\n",
              "  'he',\n",
              "  'wanted',\n",
              "  'for',\n",
              "  'breakfast',\n",
              "  '.'],\n",
              " ['While',\n",
              "  'he',\n",
              "  'sat',\n",
              "  'there',\n",
              "  ',',\n",
              "  'trying',\n",
              "  'to',\n",
              "  'make',\n",
              "  'up',\n",
              "  'his',\n",
              "  'mind',\n",
              "  'what',\n",
              "  'would',\n",
              "  'taste',\n",
              "  'best',\n",
              "  ',',\n",
              "  'he',\n",
              "  'was',\n",
              "  'listening',\n",
              "  'to',\n",
              "  'the',\n",
              "  'sounds',\n",
              "  'that',\n",
              "  'told',\n",
              "  'of',\n",
              "  'the',\n",
              "  'waking',\n",
              "  'of',\n",
              "  'all',\n",
              "  'the',\n",
              "  'little',\n",
              "  'people',\n",
              "  'who',\n",
              "  'live',\n",
              "  'in',\n",
              "  'the',\n",
              "  'Green',\n",
              "  'Forest',\n",
              "  '.'],\n",
              " ['He',\n",
              "  'heard',\n",
              "  'Sammy',\n",
              "  'Jay',\n",
              "  'way',\n",
              "  'off',\n",
              "  'in',\n",
              "  'the',\n",
              "  'distance',\n",
              "  'screaming',\n",
              "  ',',\n",
              "  '\"',\n",
              "  'Thief',\n",
              "  '!'],\n",
              " ['Thief', '!\"'],\n",
              " ['and', 'grinned', '.'],\n",
              " ['\"',\n",
              "  'I',\n",
              "  'wonder',\n",
              "  ',\"',\n",
              "  'thought',\n",
              "  'Buster',\n",
              "  ',',\n",
              "  '\"',\n",
              "  'if',\n",
              "  'some',\n",
              "  'one',\n",
              "  'has',\n",
              "  'stolen',\n",
              "  'Sammy',\n",
              "  \"'\",\n",
              "  's',\n",
              "  'breakfast',\n",
              "  ',',\n",
              "  'or',\n",
              "  'if',\n",
              "  'he',\n",
              "  'has',\n",
              "  'stolen',\n",
              "  'the',\n",
              "  'breakfast',\n",
              "  'of',\n",
              "  'some',\n",
              "  'one',\n",
              "  'else',\n",
              "  '.'],\n",
              " ['Probably', 'he', 'is', 'the', 'thief', 'himself', '.\"'],\n",
              " ['He',\n",
              "  'heard',\n",
              "  'Chatterer',\n",
              "  'the',\n",
              "  'Red',\n",
              "  'Squirrel',\n",
              "  'scolding',\n",
              "  'as',\n",
              "  'fast',\n",
              "  'as',\n",
              "  'he',\n",
              "  'could',\n",
              "  'make',\n",
              "  'his',\n",
              "  'tongue',\n",
              "  'go',\n",
              "  'and',\n",
              "  'working',\n",
              "  'himself',\n",
              "  'into',\n",
              "  'a',\n",
              "  'terrible',\n",
              "  'rage',\n",
              "  '.'],\n",
              " ['\"',\n",
              "  'Must',\n",
              "  'be',\n",
              "  'that',\n",
              "  'Chatterer',\n",
              "  'got',\n",
              "  'out',\n",
              "  'of',\n",
              "  'bed',\n",
              "  'the',\n",
              "  'wrong',\n",
              "  'way',\n",
              "  'this',\n",
              "  'morning',\n",
              "  ',\"',\n",
              "  'thought',\n",
              "  'he',\n",
              "  '.'],\n",
              " ['He',\n",
              "  'heard',\n",
              "  'Blacky',\n",
              "  'the',\n",
              "  'Crow',\n",
              "  'cawing',\n",
              "  'at',\n",
              "  'the',\n",
              "  'top',\n",
              "  'of',\n",
              "  'his',\n",
              "  'lungs',\n",
              "  ',',\n",
              "  'and',\n",
              "  'he',\n",
              "  'knew',\n",
              "  'by',\n",
              "  'the',\n",
              "  'sound',\n",
              "  'that',\n",
              "  'Blacky',\n",
              "  'was',\n",
              "  'getting',\n",
              "  'into',\n",
              "  'mischief',\n",
              "  'of',\n",
              "  'some',\n",
              "  'kind',\n",
              "  '.'],\n",
              " ['He',\n",
              "  'heard',\n",
              "  'the',\n",
              "  'sweet',\n",
              "  'voices',\n",
              "  'of',\n",
              "  'happy',\n",
              "  'little',\n",
              "  'singers',\n",
              "  ',',\n",
              "  'and',\n",
              "  'they',\n",
              "  'were',\n",
              "  'good',\n",
              "  'to',\n",
              "  'hear',\n",
              "  '.'],\n",
              " ['But',\n",
              "  'most',\n",
              "  'of',\n",
              "  'all',\n",
              "  'he',\n",
              "  'listened',\n",
              "  'to',\n",
              "  'a',\n",
              "  'merry',\n",
              "  ',',\n",
              "  'low',\n",
              "  ',',\n",
              "  'silvery',\n",
              "  'laugh',\n",
              "  'that',\n",
              "  'never',\n",
              "  'stopped',\n",
              "  'but',\n",
              "  'went',\n",
              "  'on',\n",
              "  'and',\n",
              "  'on',\n",
              "  ',',\n",
              "  'until',\n",
              "  'he',\n",
              "  'just',\n",
              "  'felt',\n",
              "  'as',\n",
              "  'if',\n",
              "  'he',\n",
              "  'must',\n",
              "  'laugh',\n",
              "  'too',\n",
              "  '.'],\n",
              " ['It', 'was', 'the', 'voice', 'of', 'the', 'Laughing', 'Brook', '.'],\n",
              " ['And',\n",
              "  'as',\n",
              "  'Buster',\n",
              "  'listened',\n",
              "  'it',\n",
              "  'suddenly',\n",
              "  'came',\n",
              "  'to',\n",
              "  'him',\n",
              "  'just',\n",
              "  'what',\n",
              "  'he',\n",
              "  'wanted',\n",
              "  'for',\n",
              "  'breakfast',\n",
              "  '.']]"
            ]
          },
          "metadata": {},
          "execution_count": 103
        }
      ],
      "source": [
        "sents[1:20]"
      ]
    },
    {
      "cell_type": "code",
      "execution_count": 104,
      "metadata": {
        "id": "upWUhlIIaobf"
      },
      "outputs": [],
      "source": [
        "words = gutenberg.words(fileids=[\"burgess-busterbrown.txt\",\"austen-emma.txt\"])"
      ]
    },
    {
      "cell_type": "code",
      "execution_count": 105,
      "metadata": {
        "id": "POu39Axyaobf",
        "colab": {
          "base_uri": "https://localhost:8080/"
        },
        "outputId": "5dbad17c-6459-4ff3-b547-8b5954b6ada2"
      },
      "outputs": [
        {
          "output_type": "execute_result",
          "data": {
            "text/plain": [
              "['[', 'The', 'Adventures', 'of', 'Buster', 'Bear', 'by', 'Thornton', 'W', '.']"
            ]
          },
          "metadata": {},
          "execution_count": 105
        }
      ],
      "source": [
        "words[:10]"
      ]
    },
    {
      "cell_type": "code",
      "execution_count": 106,
      "metadata": {
        "id": "IqXFuRraaobf",
        "colab": {
          "base_uri": "https://localhost:8080/"
        },
        "outputId": "0b2c61d9-cace-4d41-d0af-b0c7a2dbf064"
      },
      "outputs": [
        {
          "output_type": "execute_result",
          "data": {
            "text/plain": [
              "['answered',\n",
              " 'in',\n",
              " 'the',\n",
              " 'perfect',\n",
              " 'happiness',\n",
              " 'of',\n",
              " 'the',\n",
              " 'union',\n",
              " '.',\n",
              " 'FINIS']"
            ]
          },
          "metadata": {},
          "execution_count": 106
        }
      ],
      "source": [
        "words[-10:]"
      ]
    },
    {
      "cell_type": "markdown",
      "metadata": {
        "id": "oU1oDT0Baobf"
      },
      "source": [
        "### 1.8 Loading your own Corpus"
      ]
    },
    {
      "cell_type": "markdown",
      "metadata": {
        "id": "4KVGSSPVaobf"
      },
      "source": [
        "#### If you have your own collection of text files that you would like to access using the above methods, you can easily load them with the help of NLTK's PlaintextCorpusReader."
      ]
    },
    {
      "cell_type": "code",
      "execution_count": 107,
      "metadata": {
        "id": "vZzn2A0haobf"
      },
      "outputs": [],
      "source": [
        "from nltk.corpus import PlaintextCorpusReader"
      ]
    },
    {
      "cell_type": "markdown",
      "metadata": {
        "id": "Tnyc71rgaobf"
      },
      "source": [
        "#### upload all the files together into jupyter"
      ]
    },
    {
      "cell_type": "code",
      "execution_count": 114,
      "metadata": {
        "id": "OjxKGIYkaobf"
      },
      "outputs": [],
      "source": [
        "corpus_root = \"my corpus\""
      ]
    },
    {
      "cell_type": "code",
      "source": [
        "wordlists = PlaintextCorpusReader(corpus_root, '.*')"
      ],
      "metadata": {
        "colab": {
          "base_uri": "https://localhost:8080/",
          "height": 282
        },
        "id": "6ub_qmnuxRpi",
        "outputId": "1b94f5cd-f51d-4f19-af65-d4951204016c"
      },
      "execution_count": 118,
      "outputs": [
        {
          "output_type": "error",
          "ename": "OSError",
          "evalue": "No such file or directory: '/content/my_corpus'",
          "traceback": [
            "\u001b[0;31m---------------------------------------------------------------------------\u001b[0m",
            "\u001b[0;31mOSError\u001b[0m                                   Traceback (most recent call last)",
            "\u001b[0;32m<ipython-input-118-62043b59ac7b>\u001b[0m in \u001b[0;36m<cell line: 1>\u001b[0;34m()\u001b[0m\n\u001b[0;32m----> 1\u001b[0;31m \u001b[0mwordlists\u001b[0m \u001b[0;34m=\u001b[0m \u001b[0mPlaintextCorpusReader\u001b[0m\u001b[0;34m(\u001b[0m\u001b[0mcorpus_root\u001b[0m\u001b[0;34m,\u001b[0m \u001b[0;34m'.*'\u001b[0m\u001b[0;34m)\u001b[0m\u001b[0;34m\u001b[0m\u001b[0;34m\u001b[0m\u001b[0m\n\u001b[0m",
            "\u001b[0;32m/usr/local/lib/python3.10/dist-packages/nltk/corpus/reader/plaintext.py\u001b[0m in \u001b[0;36m__init__\u001b[0;34m(self, root, fileids, word_tokenizer, sent_tokenizer, para_block_reader, encoding)\u001b[0m\n\u001b[1;32m     60\u001b[0m             \u001b[0mcorpus\u001b[0m \u001b[0minto\u001b[0m \u001b[0mparagraph\u001b[0m \u001b[0mblocks\u001b[0m\u001b[0;34m.\u001b[0m\u001b[0;34m\u001b[0m\u001b[0;34m\u001b[0m\u001b[0m\n\u001b[1;32m     61\u001b[0m         \"\"\"\n\u001b[0;32m---> 62\u001b[0;31m         \u001b[0mCorpusReader\u001b[0m\u001b[0;34m.\u001b[0m\u001b[0m__init__\u001b[0m\u001b[0;34m(\u001b[0m\u001b[0mself\u001b[0m\u001b[0;34m,\u001b[0m \u001b[0mroot\u001b[0m\u001b[0;34m,\u001b[0m \u001b[0mfileids\u001b[0m\u001b[0;34m,\u001b[0m \u001b[0mencoding\u001b[0m\u001b[0;34m)\u001b[0m\u001b[0;34m\u001b[0m\u001b[0;34m\u001b[0m\u001b[0m\n\u001b[0m\u001b[1;32m     63\u001b[0m         \u001b[0mself\u001b[0m\u001b[0;34m.\u001b[0m\u001b[0m_word_tokenizer\u001b[0m \u001b[0;34m=\u001b[0m \u001b[0mword_tokenizer\u001b[0m\u001b[0;34m\u001b[0m\u001b[0;34m\u001b[0m\u001b[0m\n\u001b[1;32m     64\u001b[0m         \u001b[0mself\u001b[0m\u001b[0;34m.\u001b[0m\u001b[0m_sent_tokenizer\u001b[0m \u001b[0;34m=\u001b[0m \u001b[0msent_tokenizer\u001b[0m\u001b[0;34m\u001b[0m\u001b[0;34m\u001b[0m\u001b[0m\n",
            "\u001b[0;32m/usr/local/lib/python3.10/dist-packages/nltk/corpus/reader/api.py\u001b[0m in \u001b[0;36m__init__\u001b[0;34m(self, root, fileids, encoding, tagset)\u001b[0m\n\u001b[1;32m     78\u001b[0m                 \u001b[0mroot\u001b[0m \u001b[0;34m=\u001b[0m \u001b[0mZipFilePathPointer\u001b[0m\u001b[0;34m(\u001b[0m\u001b[0mzipfile\u001b[0m\u001b[0;34m,\u001b[0m \u001b[0mzipentry\u001b[0m\u001b[0;34m)\u001b[0m\u001b[0;34m\u001b[0m\u001b[0;34m\u001b[0m\u001b[0m\n\u001b[1;32m     79\u001b[0m             \u001b[0;32melse\u001b[0m\u001b[0;34m:\u001b[0m\u001b[0;34m\u001b[0m\u001b[0;34m\u001b[0m\u001b[0m\n\u001b[0;32m---> 80\u001b[0;31m                 \u001b[0mroot\u001b[0m \u001b[0;34m=\u001b[0m \u001b[0mFileSystemPathPointer\u001b[0m\u001b[0;34m(\u001b[0m\u001b[0mroot\u001b[0m\u001b[0;34m)\u001b[0m\u001b[0;34m\u001b[0m\u001b[0;34m\u001b[0m\u001b[0m\n\u001b[0m\u001b[1;32m     81\u001b[0m         \u001b[0;32melif\u001b[0m \u001b[0;32mnot\u001b[0m \u001b[0misinstance\u001b[0m\u001b[0;34m(\u001b[0m\u001b[0mroot\u001b[0m\u001b[0;34m,\u001b[0m \u001b[0mPathPointer\u001b[0m\u001b[0;34m)\u001b[0m\u001b[0;34m:\u001b[0m\u001b[0;34m\u001b[0m\u001b[0;34m\u001b[0m\u001b[0m\n\u001b[1;32m     82\u001b[0m             \u001b[0;32mraise\u001b[0m \u001b[0mTypeError\u001b[0m\u001b[0;34m(\u001b[0m\u001b[0;34m\"CorpusReader: expected a string or a PathPointer\"\u001b[0m\u001b[0;34m)\u001b[0m\u001b[0;34m\u001b[0m\u001b[0;34m\u001b[0m\u001b[0m\n",
            "\u001b[0;32m/usr/local/lib/python3.10/dist-packages/nltk/compat.py\u001b[0m in \u001b[0;36m_decorator\u001b[0;34m(*args, **kwargs)\u001b[0m\n\u001b[1;32m     39\u001b[0m     \u001b[0;32mdef\u001b[0m \u001b[0m_decorator\u001b[0m\u001b[0;34m(\u001b[0m\u001b[0;34m*\u001b[0m\u001b[0margs\u001b[0m\u001b[0;34m,\u001b[0m \u001b[0;34m**\u001b[0m\u001b[0mkwargs\u001b[0m\u001b[0;34m)\u001b[0m\u001b[0;34m:\u001b[0m\u001b[0;34m\u001b[0m\u001b[0;34m\u001b[0m\u001b[0m\n\u001b[1;32m     40\u001b[0m         \u001b[0margs\u001b[0m \u001b[0;34m=\u001b[0m \u001b[0;34m(\u001b[0m\u001b[0margs\u001b[0m\u001b[0;34m[\u001b[0m\u001b[0;36m0\u001b[0m\u001b[0;34m]\u001b[0m\u001b[0;34m,\u001b[0m \u001b[0madd_py3_data\u001b[0m\u001b[0;34m(\u001b[0m\u001b[0margs\u001b[0m\u001b[0;34m[\u001b[0m\u001b[0;36m1\u001b[0m\u001b[0;34m]\u001b[0m\u001b[0;34m)\u001b[0m\u001b[0;34m)\u001b[0m \u001b[0;34m+\u001b[0m \u001b[0margs\u001b[0m\u001b[0;34m[\u001b[0m\u001b[0;36m2\u001b[0m\u001b[0;34m:\u001b[0m\u001b[0;34m]\u001b[0m\u001b[0;34m\u001b[0m\u001b[0;34m\u001b[0m\u001b[0m\n\u001b[0;32m---> 41\u001b[0;31m         \u001b[0;32mreturn\u001b[0m \u001b[0minit_func\u001b[0m\u001b[0;34m(\u001b[0m\u001b[0;34m*\u001b[0m\u001b[0margs\u001b[0m\u001b[0;34m,\u001b[0m \u001b[0;34m**\u001b[0m\u001b[0mkwargs\u001b[0m\u001b[0;34m)\u001b[0m\u001b[0;34m\u001b[0m\u001b[0;34m\u001b[0m\u001b[0m\n\u001b[0m\u001b[1;32m     42\u001b[0m \u001b[0;34m\u001b[0m\u001b[0m\n\u001b[1;32m     43\u001b[0m     \u001b[0;32mreturn\u001b[0m \u001b[0mwraps\u001b[0m\u001b[0;34m(\u001b[0m\u001b[0minit_func\u001b[0m\u001b[0;34m)\u001b[0m\u001b[0;34m(\u001b[0m\u001b[0m_decorator\u001b[0m\u001b[0;34m)\u001b[0m\u001b[0;34m\u001b[0m\u001b[0;34m\u001b[0m\u001b[0m\n",
            "\u001b[0;32m/usr/local/lib/python3.10/dist-packages/nltk/data.py\u001b[0m in \u001b[0;36m__init__\u001b[0;34m(self, _path)\u001b[0m\n\u001b[1;32m    310\u001b[0m         \u001b[0m_path\u001b[0m \u001b[0;34m=\u001b[0m \u001b[0mos\u001b[0m\u001b[0;34m.\u001b[0m\u001b[0mpath\u001b[0m\u001b[0;34m.\u001b[0m\u001b[0mabspath\u001b[0m\u001b[0;34m(\u001b[0m\u001b[0m_path\u001b[0m\u001b[0;34m)\u001b[0m\u001b[0;34m\u001b[0m\u001b[0;34m\u001b[0m\u001b[0m\n\u001b[1;32m    311\u001b[0m         \u001b[0;32mif\u001b[0m \u001b[0;32mnot\u001b[0m \u001b[0mos\u001b[0m\u001b[0;34m.\u001b[0m\u001b[0mpath\u001b[0m\u001b[0;34m.\u001b[0m\u001b[0mexists\u001b[0m\u001b[0;34m(\u001b[0m\u001b[0m_path\u001b[0m\u001b[0;34m)\u001b[0m\u001b[0;34m:\u001b[0m\u001b[0;34m\u001b[0m\u001b[0;34m\u001b[0m\u001b[0m\n\u001b[0;32m--> 312\u001b[0;31m             \u001b[0;32mraise\u001b[0m \u001b[0mOSError\u001b[0m\u001b[0;34m(\u001b[0m\u001b[0;34m\"No such file or directory: %r\"\u001b[0m \u001b[0;34m%\u001b[0m \u001b[0m_path\u001b[0m\u001b[0;34m)\u001b[0m\u001b[0;34m\u001b[0m\u001b[0;34m\u001b[0m\u001b[0m\n\u001b[0m\u001b[1;32m    313\u001b[0m         \u001b[0mself\u001b[0m\u001b[0;34m.\u001b[0m\u001b[0m_path\u001b[0m \u001b[0;34m=\u001b[0m \u001b[0m_path\u001b[0m\u001b[0;34m\u001b[0m\u001b[0;34m\u001b[0m\u001b[0m\n\u001b[1;32m    314\u001b[0m \u001b[0;34m\u001b[0m\u001b[0m\n",
            "\u001b[0;31mOSError\u001b[0m: No such file or directory: '/content/my_corpus'"
          ]
        }
      ]
    },
    {
      "cell_type": "code",
      "execution_count": 110,
      "metadata": {
        "id": "OGhQ54mGaobf",
        "colab": {
          "base_uri": "https://localhost:8080/",
          "height": 139
        },
        "outputId": "1ab6c105-799c-4abb-9671-e91f5fb29a94"
      },
      "outputs": [
        {
          "output_type": "error",
          "ename": "NameError",
          "evalue": "name 'wordlists' is not defined",
          "traceback": [
            "\u001b[0;31m---------------------------------------------------------------------------\u001b[0m",
            "\u001b[0;31mNameError\u001b[0m                                 Traceback (most recent call last)",
            "\u001b[0;32m<ipython-input-110-8ad3e49aff57>\u001b[0m in \u001b[0;36m<cell line: 1>\u001b[0;34m()\u001b[0m\n\u001b[0;32m----> 1\u001b[0;31m \u001b[0mwordlists\u001b[0m\u001b[0;34m.\u001b[0m\u001b[0mfileids\u001b[0m\u001b[0;34m(\u001b[0m\u001b[0;34m)\u001b[0m\u001b[0;34m\u001b[0m\u001b[0;34m\u001b[0m\u001b[0m\n\u001b[0m",
            "\u001b[0;31mNameError\u001b[0m: name 'wordlists' is not defined"
          ]
        }
      ],
      "source": [
        "wordlists.fileids()"
      ]
    },
    {
      "cell_type": "code",
      "execution_count": 119,
      "metadata": {
        "scrolled": true,
        "id": "EO4pMiuraobf",
        "colab": {
          "base_uri": "https://localhost:8080/",
          "height": 139
        },
        "outputId": "260ffe00-f876-4c1e-f1e1-a145d0acf6b6"
      },
      "outputs": [
        {
          "output_type": "error",
          "ename": "NameError",
          "evalue": "name 'wordlists' is not defined",
          "traceback": [
            "\u001b[0;31m---------------------------------------------------------------------------\u001b[0m",
            "\u001b[0;31mNameError\u001b[0m                                 Traceback (most recent call last)",
            "\u001b[0;32m<ipython-input-119-d475b391ff19>\u001b[0m in \u001b[0;36m<cell line: 1>\u001b[0;34m()\u001b[0m\n\u001b[0;32m----> 1\u001b[0;31m \u001b[0mwordlists\u001b[0m\u001b[0;34m.\u001b[0m\u001b[0mwords\u001b[0m\u001b[0;34m(\u001b[0m\u001b[0;34m'text1.txt'\u001b[0m\u001b[0;34m)\u001b[0m\u001b[0;34m\u001b[0m\u001b[0;34m\u001b[0m\u001b[0m\n\u001b[0m",
            "\u001b[0;31mNameError\u001b[0m: name 'wordlists' is not defined"
          ]
        }
      ],
      "source": [
        "wordlists.words('text1.txt')"
      ]
    },
    {
      "cell_type": "code",
      "execution_count": null,
      "metadata": {
        "id": "ZtT2nVqCaobf"
      },
      "outputs": [],
      "source": [
        "text2=wordlists.words('text2.txt')"
      ]
    },
    {
      "cell_type": "code",
      "execution_count": null,
      "metadata": {
        "id": "cayY4hTGaobf"
      },
      "outputs": [],
      "source": [
        "text2"
      ]
    },
    {
      "cell_type": "code",
      "execution_count": null,
      "metadata": {
        "id": "Ye8DhcpBaobf"
      },
      "outputs": [],
      "source": [
        "wordlists.raw(\"text3.txt\")"
      ]
    },
    {
      "cell_type": "code",
      "execution_count": null,
      "metadata": {
        "id": "LcWcRbDAaobf"
      },
      "outputs": [],
      "source": [
        "for fileid in wordlists.fileids():\n",
        "    num_chars=len(wordlists.raw(fileid))\n",
        "    num_words=len(wordlists.words(fileid))\n",
        "    num_sents=len(wordlists.sents(fileid))\n",
        "    num_vocab=len(set(w.lower() for w in wordlists.words(fileid)))\n",
        "    print(round(num_chars/num_words),round(num_words/num_sents),round(num_words/num_vocab),fileid)"
      ]
    },
    {
      "cell_type": "code",
      "execution_count": null,
      "metadata": {
        "id": "_1CXcq8Vaobf"
      },
      "outputs": [],
      "source": [
        "for fileid in wordlists.fileids():\n",
        "    words=wordlists.words(fileid)\n",
        "    sents=wordlists.sents(fileid)\n",
        "    avg_word=sum(len(w) for w in words)/len(words)\n",
        "    avg_sent=sum(len(s) for s in sents)/len(sents)\n",
        "    print(round(avg_word),round(avg_sent),fileid)"
      ]
    },
    {
      "cell_type": "code",
      "execution_count": null,
      "metadata": {
        "id": "kv1VMI64aobg"
      },
      "outputs": [],
      "source": [
        "len(text2)"
      ]
    },
    {
      "cell_type": "code",
      "execution_count": null,
      "metadata": {
        "id": "zugCbJzGaobg"
      },
      "outputs": [],
      "source": [
        "text2[2]"
      ]
    },
    {
      "cell_type": "code",
      "execution_count": null,
      "metadata": {
        "id": "PqUqUr6_aobg"
      },
      "outputs": [],
      "source": [
        "for fileid in wordlists.fileids():\n",
        "    text=wordlists.words(fileid)\n",
        "    fdist=nltk.FreqDist(w.lower() for w in text)\n",
        "    words=['this','is','a','file']\n",
        "    print(fileid)\n",
        "    for w in words:\n",
        "        print(w+':',fdist[w],end=' ')\n",
        "    print(\" \")"
      ]
    },
    {
      "cell_type": "markdown",
      "metadata": {
        "id": "GbLQQSt9aobg"
      },
      "source": [
        "#### Exercise 2: Could you please make your own corpus and retrieve the third word from any one of the files in your corpus?"
      ]
    },
    {
      "cell_type": "code",
      "execution_count": null,
      "metadata": {
        "id": "mbEgzvmsaobg"
      },
      "outputs": [],
      "source": []
    },
    {
      "cell_type": "code",
      "execution_count": null,
      "metadata": {
        "id": "42C_XxUlaobg"
      },
      "outputs": [],
      "source": []
    },
    {
      "cell_type": "markdown",
      "metadata": {
        "id": "mLdFoxVJaobg"
      },
      "source": [
        "#### Q & A"
      ]
    },
    {
      "cell_type": "code",
      "execution_count": null,
      "metadata": {
        "id": "MPRrkldiaobg"
      },
      "outputs": [],
      "source": []
    },
    {
      "cell_type": "code",
      "execution_count": null,
      "metadata": {
        "id": "dDqe2qkHaobg"
      },
      "outputs": [],
      "source": []
    },
    {
      "cell_type": "markdown",
      "metadata": {
        "id": "ux9Y61kdaobg"
      },
      "source": [
        "### 2 Conditional Frequency Distributions"
      ]
    },
    {
      "cell_type": "markdown",
      "metadata": {
        "id": "T5hjmyeAaobg"
      },
      "source": [
        "#### When the texts of a corpus are divided into several categories, by genre, topic, author, etc, we can maintain separate frequency distributions for each category."
      ]
    },
    {
      "cell_type": "markdown",
      "metadata": {
        "id": "GRgc_vxFaobg"
      },
      "source": [
        "#### This will allow us to study systematic differences between the categories"
      ]
    },
    {
      "cell_type": "markdown",
      "metadata": {
        "id": "c91Py41Iaobg"
      },
      "source": [
        "#### A conditional frequency distribution is a collection of frequency distributions, each one for a different \"condition\". The condition will often be the category of the text."
      ]
    },
    {
      "cell_type": "markdown",
      "metadata": {
        "id": "LXVIgLD5aobg"
      },
      "source": [
        "### 2.1 Conditions and Events"
      ]
    },
    {
      "cell_type": "markdown",
      "metadata": {
        "id": "SBqiUPuSaobg"
      },
      "source": [
        "#### A conditional frequency distribution needs to pair each event with a condition. So instead of processing a sequence of words, we have to process a sequence of pairs"
      ]
    },
    {
      "cell_type": "code",
      "execution_count": null,
      "metadata": {
        "id": "h_Bz-tJEaobg"
      },
      "outputs": [],
      "source": [
        "text = ['The', 'Fulton', 'County', 'Grand', 'Jury', 'said', ...]"
      ]
    },
    {
      "cell_type": "code",
      "execution_count": null,
      "metadata": {
        "id": "0aZmQVF-aobg"
      },
      "outputs": [],
      "source": [
        "pairs = [('news', 'The'), ('news', 'Fulton'), ('news', 'County'), ...]"
      ]
    },
    {
      "cell_type": "markdown",
      "metadata": {
        "id": "UQ9dJcuUaobg"
      },
      "source": [
        "#### Each pair has the form (condition, event). If we were processing the entire Brown Corpus by genre there would be 15 conditions (one per genre), and 1,161,192 events (one per word)."
      ]
    },
    {
      "cell_type": "markdown",
      "metadata": {
        "id": "DwMVUjLNaobg"
      },
      "source": [
        "### 2.2 Counting Words by Genre"
      ]
    },
    {
      "cell_type": "markdown",
      "metadata": {
        "id": "q2yUiVykaobg"
      },
      "source": [
        "#### In Section 1 we saw a conditional frequency distribution where the condition was the section of the Brown Corpus, and for each condition we counted words. Whereas FreqDist() takes a simple list as input, ConditionalFreqDist() takes a list of pairs."
      ]
    },
    {
      "cell_type": "code",
      "execution_count": null,
      "metadata": {
        "id": "hVs3kOVLaobh"
      },
      "outputs": [],
      "source": [
        "from nltk.corpus import brown"
      ]
    },
    {
      "cell_type": "code",
      "execution_count": null,
      "metadata": {
        "id": "qPvRGf9Haobh"
      },
      "outputs": [],
      "source": [
        "cfd = nltk.ConditionalFreqDist(\n",
        "         (genre, word)\n",
        "          for genre in brown.categories()\n",
        "          for word in brown.words(categories=genre))"
      ]
    },
    {
      "cell_type": "markdown",
      "metadata": {
        "id": "mCOKv7vmaobh"
      },
      "source": [
        "#### Let's break this down, and look at just two genres, news and romance. For each genre, we loop over every word in the genre, producing pairs consisting of the genre and the word"
      ]
    },
    {
      "cell_type": "code",
      "execution_count": null,
      "metadata": {
        "id": "DaDlCP3jaobh"
      },
      "outputs": [],
      "source": [
        "genre_word = [(genre, word)\n",
        "            for genre in ['news', 'romance']\n",
        "            for word in brown.words(categories=genre)]"
      ]
    },
    {
      "cell_type": "code",
      "execution_count": null,
      "metadata": {
        "id": "V9osjXsbaobh"
      },
      "outputs": [],
      "source": [
        "len(genre_word)"
      ]
    },
    {
      "cell_type": "markdown",
      "metadata": {
        "id": "-oqNTCwOaobh"
      },
      "source": [
        "#### So, as we can see below, pairs at the beginning of the list genre_word will be of the form ('news', word), while those at the end will be of the form ('romance', word)"
      ]
    },
    {
      "cell_type": "code",
      "execution_count": null,
      "metadata": {
        "id": "NbW-ZETTaobh"
      },
      "outputs": [],
      "source": [
        "genre_word[:4]"
      ]
    },
    {
      "cell_type": "code",
      "execution_count": null,
      "metadata": {
        "id": "H-K9XxWDaobh"
      },
      "outputs": [],
      "source": [
        "genre_word[-4:]"
      ]
    },
    {
      "cell_type": "markdown",
      "metadata": {
        "id": "Gg9HjMzmaobh"
      },
      "source": [
        "#### We can now use this list of pairs to create a ConditionalFreqDist, and save it in a variable cfd. As usual, we can type the name of the variable to inspect it, and verify it has two conditions"
      ]
    },
    {
      "cell_type": "code",
      "execution_count": null,
      "metadata": {
        "id": "eIFBKDBWaobh"
      },
      "outputs": [],
      "source": [
        "cfd=nltk.ConditionalFreqDist(genre_word)"
      ]
    },
    {
      "cell_type": "code",
      "execution_count": null,
      "metadata": {
        "id": "sKyoLkQgaobh"
      },
      "outputs": [],
      "source": [
        "cfd"
      ]
    },
    {
      "cell_type": "code",
      "execution_count": null,
      "metadata": {
        "id": "v706jVAhaobh"
      },
      "outputs": [],
      "source": [
        "cfd.conditions()"
      ]
    },
    {
      "cell_type": "markdown",
      "metadata": {
        "id": "SgecNvV8aobh"
      },
      "source": [
        "#### Let's access the two conditions, and satisfy ourselves that each is just a frequency distribution:"
      ]
    },
    {
      "cell_type": "code",
      "execution_count": null,
      "metadata": {
        "id": "ogKQUr29aobh"
      },
      "outputs": [],
      "source": [
        "print(cfd['news'])"
      ]
    },
    {
      "cell_type": "code",
      "execution_count": null,
      "metadata": {
        "id": "6LYEJ531aobh"
      },
      "outputs": [],
      "source": [
        "len(brown.words(categories='news'))"
      ]
    },
    {
      "cell_type": "code",
      "execution_count": null,
      "metadata": {
        "id": "dEEGLIVKaobh"
      },
      "outputs": [],
      "source": [
        "len(set(brown.words(categories='news')))"
      ]
    },
    {
      "cell_type": "code",
      "execution_count": null,
      "metadata": {
        "id": "0dqUIVABaobh"
      },
      "outputs": [],
      "source": [
        "print(cfd['romance'])"
      ]
    },
    {
      "cell_type": "code",
      "execution_count": null,
      "metadata": {
        "id": "wTgWYGMaaobi"
      },
      "outputs": [],
      "source": [
        "cfd['romance'].most_common(50)"
      ]
    },
    {
      "cell_type": "code",
      "execution_count": null,
      "metadata": {
        "id": "ZeCXCbHNaobi"
      },
      "outputs": [],
      "source": [
        "cfd['romance']['could']"
      ]
    },
    {
      "cell_type": "markdown",
      "metadata": {
        "id": "iRO2_F-Gaobi"
      },
      "source": [
        "#### Exercise 3: Working with the news and romance genres from the Brown Corpus, find out which days of the week are most newsworthy, and which are most romantic. Define a variable called days containing a list of days of the week, i.e. [\"Monday\",\"Tuesday\",\"Wednesday\",\"Thursday\",\"Friday\",\"Saturday\",\"Sunday\" ]. Now tabulate the counts for these words using cfd.tabulate(conditions=genres, samples=days)."
      ]
    },
    {
      "cell_type": "code",
      "execution_count": null,
      "metadata": {
        "id": "oU020Vihaobi"
      },
      "outputs": [],
      "source": []
    },
    {
      "cell_type": "code",
      "execution_count": null,
      "metadata": {
        "id": "zo1uRbe6aobi"
      },
      "outputs": [],
      "source": []
    },
    {
      "cell_type": "code",
      "execution_count": null,
      "metadata": {
        "id": "dj9be79oaobi"
      },
      "outputs": [],
      "source": []
    },
    {
      "cell_type": "markdown",
      "metadata": {
        "id": "Agao0qmraobi"
      },
      "source": [
        "\n",
        "### 2.3 Generating Random Text with Bigrams"
      ]
    },
    {
      "cell_type": "markdown",
      "metadata": {
        "id": "uBSjT2fBaobi"
      },
      "source": [
        "#### We can use a conditional frequency distribution to create a table of bigrams (word pairs). (We introducted bigrams in 3.) The bigrams() function takes a list of words and builds a list of consecutive word pairs."
      ]
    },
    {
      "cell_type": "code",
      "execution_count": null,
      "metadata": {
        "id": "dK7Izfipaobi"
      },
      "outputs": [],
      "source": [
        "sent = ['In', 'the', 'beginning', 'God', 'created', 'the', 'heaven','and', 'the', 'earth', '.']"
      ]
    },
    {
      "cell_type": "code",
      "execution_count": null,
      "metadata": {
        "scrolled": false,
        "id": "JEYFwj4raobi"
      },
      "outputs": [],
      "source": [
        "list_sent=list(nltk.bigrams(sent))"
      ]
    },
    {
      "cell_type": "code",
      "execution_count": null,
      "metadata": {
        "scrolled": true,
        "id": "K90ri_2Aaobi"
      },
      "outputs": [],
      "source": [
        "list_sent"
      ]
    },
    {
      "cell_type": "code",
      "execution_count": null,
      "metadata": {
        "id": "TpkCuQavaobi"
      },
      "outputs": [],
      "source": [
        "cfd = nltk.ConditionalFreqDist(list_sent)"
      ]
    },
    {
      "cell_type": "code",
      "execution_count": null,
      "metadata": {
        "id": "qwNlR6j1aobi"
      },
      "outputs": [],
      "source": [
        "cfd.conditions()"
      ]
    },
    {
      "cell_type": "code",
      "execution_count": null,
      "metadata": {
        "id": "3ZNNEhtaaobi"
      },
      "outputs": [],
      "source": [
        "cfd.tabulate()"
      ]
    },
    {
      "cell_type": "code",
      "execution_count": null,
      "metadata": {
        "id": "4gnUK-Hjaobi"
      },
      "outputs": [],
      "source": [
        "cfd[\"the\"]"
      ]
    },
    {
      "cell_type": "markdown",
      "metadata": {
        "id": "U2OYCkkXaobi"
      },
      "source": [
        "#### In 2.2, we treat each word as a condition, and for each one we effectively create a frequency distribution over the following words. The function generate_model() contains a simple loop to generate text. When we call the function, we choose a word (such as 'living') as our initial context, then once inside the loop, we print the current value of the variable word, and reset word to be the most likely token in that context (using max()); next time through the loop, we use that word as our new context."
      ]
    },
    {
      "cell_type": "markdown",
      "metadata": {
        "id": "skqAsp2daobi"
      },
      "source": [
        "#### As you can see by inspecting the output, this simple approach to text generation tends to get stuck in loops"
      ]
    },
    {
      "cell_type": "code",
      "execution_count": null,
      "metadata": {
        "id": "Rcl8Z18Zaobi"
      },
      "outputs": [],
      "source": [
        "def generate_model(cfdist, word, num=15):\n",
        "    for i in range(num):\n",
        "        print(word, end=' ')\n",
        "        word = cfdist[word].max()\n",
        "\n",
        "text = nltk.corpus.genesis.words('english-kjv.txt')\n",
        "bigrams = nltk.bigrams(text)\n",
        "cfd = nltk.ConditionalFreqDist(bigrams)"
      ]
    },
    {
      "cell_type": "code",
      "execution_count": null,
      "metadata": {
        "id": "WZZRmVhiaobj"
      },
      "outputs": [],
      "source": [
        "generate_model(cfd, 'living')"
      ]
    },
    {
      "cell_type": "markdown",
      "metadata": {
        "id": "ozT6LoiZaobj"
      },
      "source": [
        "#### Generating Random Text: this program obtains all bigrams from the text of the book of Genesis, then constructs a conditional frequency distribution to record which words are most likely to follow a given word; e.g., after the word living, the most likely word is creature; the generate_model() function uses this data, and a seed word, to generate random text."
      ]
    },
    {
      "cell_type": "markdown",
      "metadata": {
        "id": "r-MH9Bebaobj"
      },
      "source": [
        "#### Conditional frequency distributions are a useful data structure for many NLP tasks. Their commonly-used methods are summarized"
      ]
    },
    {
      "cell_type": "code",
      "execution_count": null,
      "metadata": {
        "id": "9IAcBpyVaobj"
      },
      "outputs": [],
      "source": [
        "#Example\tDescription\n",
        "#cfdist = ConditionalFreqDist(pairs)\tcreate a conditional frequency distribution from a list of pairs\n",
        "#cfdist.conditions()\tthe conditions\n",
        "#cfdist[condition]\tthe frequency distribution for this condition\n",
        "#cfdist[condition][sample]\tfrequency for the given sample for this condition\n",
        "#cfdist.tabulate()\ttabulate the conditional frequency distribution\n",
        "#cfdist.tabulate(samples, conditions)\ttabulation limited to the specified samples and conditions\n",
        "#cfdist.plot()\tgraphical plot of the conditional frequency distribution\n",
        "#cfdist.plot(samples, conditions)\tgraphical plot limited to the specified samples and conditions\n",
        "#cfdist1 < cfdist2\ttest if samples in cfdist1 occur less frequently than in cfdist2"
      ]
    },
    {
      "cell_type": "markdown",
      "metadata": {
        "id": "ZxoEhY-maobj"
      },
      "source": [
        "#### Q & A"
      ]
    },
    {
      "cell_type": "markdown",
      "metadata": {
        "id": "I8FqAdJDaobj"
      },
      "source": [
        "### 3. More Python: Reusing Code"
      ]
    },
    {
      "cell_type": "markdown",
      "metadata": {
        "id": "cFLmPQ7Iaobj"
      },
      "source": [
        "### 3.1   Creating Programs with Python"
      ]
    },
    {
      "cell_type": "code",
      "execution_count": null,
      "metadata": {
        "id": "2EruKUH_aobj"
      },
      "outputs": [],
      "source": [
        "from monty import *"
      ]
    },
    {
      "cell_type": "markdown",
      "metadata": {
        "id": "ZuixQfwJaobj"
      },
      "source": [
        "### 3.2   Functions (slides)"
      ]
    },
    {
      "cell_type": "code",
      "execution_count": null,
      "metadata": {
        "id": "MMChS7ALaobj"
      },
      "outputs": [],
      "source": [
        "def lexical_diversity(my_text_data):\n",
        "    word_count = len(my_text_data)\n",
        "    vocab_size = len(set(my_text_data))\n",
        "    diversity_score = vocab_size / word_count\n",
        "    return diversity_score"
      ]
    },
    {
      "cell_type": "markdown",
      "metadata": {
        "id": "LrD7y3qnaobj"
      },
      "source": [
        "#### Notice that we've created some new variables inside the body of the function. These are local variables and are not accessible outside the function. So now we have defined a function with the name lexical_diversity. But just defining it won't produce any output! Functions do nothing until they are \"called\" (or \"invoked\"):"
      ]
    },
    {
      "cell_type": "code",
      "execution_count": null,
      "metadata": {
        "id": "xTb7rXINaobj"
      },
      "outputs": [],
      "source": [
        "from nltk.corpus import genesis"
      ]
    },
    {
      "cell_type": "code",
      "execution_count": null,
      "metadata": {
        "id": "urSxSDKxaobj"
      },
      "outputs": [],
      "source": [
        "kjv = genesis.words('english-kjv.txt')"
      ]
    },
    {
      "cell_type": "code",
      "execution_count": null,
      "metadata": {
        "id": "fdH73_EXaobj"
      },
      "outputs": [],
      "source": [
        "lexical_diversity(kjv)"
      ]
    },
    {
      "cell_type": "markdown",
      "metadata": {
        "id": "gcWHfo8waobj"
      },
      "source": [
        "#### Let's return to our earlier scenario, and actually define a simple function to work out English plurals. The function plural() in 3.1 takes a singular noun and generates a plural form, though it is not always correct."
      ]
    },
    {
      "cell_type": "code",
      "execution_count": null,
      "metadata": {
        "id": "pD_g_899aobj"
      },
      "outputs": [],
      "source": [
        "def plural(word):\n",
        "    if word.endswith('y'):\n",
        "        return word[:-1] + 'ies'\n",
        "    elif word[-1] in 'sx' or word[-2:] in ['sh', 'ch']:\n",
        "        return word + 'es'\n",
        "    elif word.endswith('an'):\n",
        "        return word[:-2] + 'en'\n",
        "    else:\n",
        "        return word + 's'"
      ]
    },
    {
      "cell_type": "code",
      "execution_count": null,
      "metadata": {
        "id": "QTTUTfF5aobk"
      },
      "outputs": [],
      "source": [
        "plural('party')"
      ]
    },
    {
      "cell_type": "code",
      "execution_count": null,
      "metadata": {
        "id": "2p0rfYdBaobk"
      },
      "outputs": [],
      "source": [
        "plural('woman')"
      ]
    },
    {
      "cell_type": "code",
      "execution_count": null,
      "metadata": {
        "id": "W5YkxVBwaobk"
      },
      "outputs": [],
      "source": [
        "plural('dish')"
      ]
    },
    {
      "cell_type": "code",
      "execution_count": null,
      "metadata": {
        "id": "AOFCK56jaobk"
      },
      "outputs": [],
      "source": []
    },
    {
      "cell_type": "markdown",
      "metadata": {
        "id": "UYMzCFUEaobk"
      },
      "source": [
        "### 3.3   Modules"
      ]
    },
    {
      "cell_type": "markdown",
      "metadata": {
        "id": "jofqRyGpaobk"
      },
      "source": [
        "#### Over time you will find that you create a variety of useful little text processing functions, and you end up copying them from old programs to new ones.  It makes life a lot easier if you can collect your work into a single place, and access previously defined functions without making copies."
      ]
    },
    {
      "cell_type": "markdown",
      "metadata": {
        "id": "ibEs6sM1aobk"
      },
      "source": [
        "#### To do this, save your function(s) in a file called (say) text_proc.py. Now, you can access your work simply by importing it from the file:"
      ]
    },
    {
      "cell_type": "code",
      "execution_count": null,
      "metadata": {
        "id": "UDrHq06Yaobk"
      },
      "outputs": [],
      "source": [
        "from text_proc import plural"
      ]
    },
    {
      "cell_type": "code",
      "execution_count": null,
      "metadata": {
        "scrolled": true,
        "id": "UzVP5_MGaobk"
      },
      "outputs": [],
      "source": [
        "plural('wish')"
      ]
    },
    {
      "cell_type": "code",
      "execution_count": null,
      "metadata": {
        "id": "DZp92MRPaobk"
      },
      "outputs": [],
      "source": [
        "plural('man')"
      ]
    },
    {
      "cell_type": "code",
      "execution_count": null,
      "metadata": {
        "id": "4NTmr0LSaobk"
      },
      "outputs": [],
      "source": [
        "plural(\"fan\")"
      ]
    },
    {
      "cell_type": "markdown",
      "metadata": {
        "id": "12hu-uz6aobk"
      },
      "source": [
        "#### Our plural function obviously has an error, since the plural of fan is fans. Instead of typing in a new version of the function, we can simply edit the existing one. Thus, at every stage, there is only one version of our plural function, and no confusion about which one is being used."
      ]
    },
    {
      "cell_type": "markdown",
      "metadata": {
        "id": "Hx8D3_cUaobk"
      },
      "source": [
        "#### A collection of variable and function definitions in a file is called a Python module."
      ]
    },
    {
      "cell_type": "markdown",
      "metadata": {
        "id": "oPxcM-yvaobk"
      },
      "source": [
        "#### A collection of related modules is called a package."
      ]
    },
    {
      "cell_type": "markdown",
      "metadata": {
        "id": "Teeky_xjaobk"
      },
      "source": [
        "#### NLTK's code for processing the Brown Corpus is an example of a module, and its collection of code for processing all the different corpora is an example of a package."
      ]
    },
    {
      "cell_type": "markdown",
      "metadata": {
        "id": "nPnPdE8baobk"
      },
      "source": [
        "#### NLTK itself is a set of packages, sometimes called a library"
      ]
    },
    {
      "cell_type": "markdown",
      "metadata": {
        "id": "9qNZ7A-Laobk"
      },
      "source": [
        "#### Q & A"
      ]
    },
    {
      "cell_type": "markdown",
      "metadata": {
        "id": "ZG-D-Tpuaobk"
      },
      "source": [
        "## 4.Lexical Resources (Slides)"
      ]
    },
    {
      "cell_type": "markdown",
      "metadata": {
        "id": "Rfv8LcHOaobl"
      },
      "source": [
        "### 4.1 Wordlist Corpora"
      ]
    },
    {
      "cell_type": "markdown",
      "metadata": {
        "id": "1zkVYlfPaobl"
      },
      "source": [
        "#### NLTK includes some corpora that are nothing more than wordlists. The Words Corpus is used by some spell checkers.  We can use it to find unusual or mis-spelt words in a text corpus"
      ]
    },
    {
      "cell_type": "code",
      "execution_count": null,
      "metadata": {
        "id": "wmlPsQEjaobl"
      },
      "outputs": [],
      "source": [
        "from nltk.corpus import words"
      ]
    },
    {
      "cell_type": "code",
      "execution_count": null,
      "metadata": {
        "id": "PrCRC0Xoaobl"
      },
      "outputs": [],
      "source": [
        "words.words()"
      ]
    },
    {
      "cell_type": "code",
      "execution_count": null,
      "metadata": {
        "id": "Xeb1TleDaobl"
      },
      "outputs": [],
      "source": [
        "def unusual_words(text):\n",
        "    text_vocab = set(w.lower() for w in text if w.isalpha())\n",
        "    english_vocab = set(w.lower() for w in nltk.corpus.words.words())\n",
        "    unusual = text_vocab - english_vocab\n",
        "    return sorted(unusual)"
      ]
    },
    {
      "cell_type": "code",
      "execution_count": null,
      "metadata": {
        "id": "9MVF3NpJaobl"
      },
      "outputs": [],
      "source": [
        "unusual_words(nltk.corpus.gutenberg.words('austen-emma.txt'))"
      ]
    },
    {
      "cell_type": "markdown",
      "metadata": {
        "id": "FdRsYfYYaobl"
      },
      "source": [
        "#### Stopwords"
      ]
    },
    {
      "cell_type": "markdown",
      "metadata": {
        "id": "5_hYRSDVaobl"
      },
      "source": [
        "#### There is also a corpus of stopwords, that is, high-frequency words like the, to and also that we sometimes want to filter out of a document before further processing. Stopwords usually have little lexical content, and their presence in a text fails to distinguish it from other texts."
      ]
    },
    {
      "cell_type": "code",
      "execution_count": null,
      "metadata": {
        "id": "lApyYcnbaobl"
      },
      "outputs": [],
      "source": [
        "from nltk.corpus import stopwords"
      ]
    },
    {
      "cell_type": "code",
      "execution_count": null,
      "metadata": {
        "id": "dypVDIoqaobl"
      },
      "outputs": [],
      "source": [
        "stopwords.words('english')"
      ]
    },
    {
      "cell_type": "markdown",
      "metadata": {
        "id": "HrQJB0gtaobl"
      },
      "source": [
        "#### Let's define a function to compute what fraction of words in a text are not in the stopwords list:"
      ]
    },
    {
      "cell_type": "code",
      "execution_count": null,
      "metadata": {
        "id": "YzVuJUCTaobl"
      },
      "outputs": [],
      "source": [
        "def content_fraction(text):\n",
        "    stopwords = nltk.corpus.stopwords.words('english')\n",
        "    content = [w for w in text if w.lower() not in stopwords]\n",
        "    return len(content) / len(text)"
      ]
    },
    {
      "cell_type": "code",
      "execution_count": null,
      "metadata": {
        "id": "9T71Hnbsaobl"
      },
      "outputs": [],
      "source": [
        "content_fraction(nltk.corpus.reuters.words())"
      ]
    },
    {
      "cell_type": "markdown",
      "metadata": {
        "id": "Ka0nP5BVaobl"
      },
      "source": [
        "#### Name corpus"
      ]
    },
    {
      "cell_type": "markdown",
      "metadata": {
        "id": "uA9454ISaobl"
      },
      "source": [
        "#### One more wordlist corpus is the Names corpus, containing 8,000 first names categorized by gender. The male and female names are stored in separate files. Let's find names which appear in both files, i.e. names that are ambiguous for gender:"
      ]
    },
    {
      "cell_type": "code",
      "execution_count": null,
      "metadata": {
        "id": "Iskas9WEaobl"
      },
      "outputs": [],
      "source": [
        "names = nltk.corpus.names"
      ]
    },
    {
      "cell_type": "code",
      "execution_count": null,
      "metadata": {
        "id": "V9SsEZe4aobl"
      },
      "outputs": [],
      "source": [
        "names.fileids()"
      ]
    },
    {
      "cell_type": "code",
      "execution_count": null,
      "metadata": {
        "id": "w9Kgg3tZaobl"
      },
      "outputs": [],
      "source": [
        "male_names=names.words('male.txt')"
      ]
    },
    {
      "cell_type": "code",
      "execution_count": null,
      "metadata": {
        "id": "ng5m4NsUaobl"
      },
      "outputs": [],
      "source": [
        "female_names=names.words('female.txt')"
      ]
    },
    {
      "cell_type": "code",
      "execution_count": null,
      "metadata": {
        "id": "GWbEQvsHaobl"
      },
      "outputs": [],
      "source": [
        "[w for w in male_names if w in female_names]"
      ]
    },
    {
      "cell_type": "code",
      "execution_count": null,
      "metadata": {
        "id": "M3QGrb2Taobm"
      },
      "outputs": [],
      "source": [
        "cfd = nltk.ConditionalFreqDist(\n",
        "           (fileid, name[-1])\n",
        "           for fileid in names.fileids()\n",
        "           for name in names.words(fileid))"
      ]
    },
    {
      "cell_type": "code",
      "execution_count": null,
      "metadata": {
        "id": "JQaqebhqaobm"
      },
      "outputs": [],
      "source": [
        "cfd.plot()"
      ]
    },
    {
      "cell_type": "code",
      "execution_count": null,
      "metadata": {
        "id": "bCUp6Q2Waobm"
      },
      "outputs": [],
      "source": [
        "cfd['female.txt'].max()"
      ]
    },
    {
      "cell_type": "code",
      "execution_count": null,
      "metadata": {
        "id": "mCskEr3Laobm"
      },
      "outputs": [],
      "source": [
        "cfd['male.txt'].max()"
      ]
    },
    {
      "cell_type": "code",
      "execution_count": null,
      "metadata": {
        "id": "O9LBEH6Saobm"
      },
      "outputs": [],
      "source": [
        "cfd.tabulate()"
      ]
    },
    {
      "cell_type": "markdown",
      "metadata": {
        "id": "Ag3VitSgaobm"
      },
      "source": [
        "#### Conditional Frequency Distribution: this plot shows the number of female and male names ending with each letter of the alphabet; most names ending with a, e or i are female; names ending in h and l are equally likely to be male or female; names ending in k, o, r, s, and t are likely to be male."
      ]
    },
    {
      "cell_type": "markdown",
      "metadata": {
        "id": "_Q8nNKU3aobm"
      },
      "source": [
        "#### Q & A"
      ]
    }
  ],
  "metadata": {
    "kernelspec": {
      "display_name": "Python 3",
      "language": "python",
      "name": "python3"
    },
    "language_info": {
      "codemirror_mode": {
        "name": "ipython",
        "version": 3
      },
      "file_extension": ".py",
      "mimetype": "text/x-python",
      "name": "python",
      "nbconvert_exporter": "python",
      "pygments_lexer": "ipython3",
      "version": "3.8.8"
    },
    "colab": {
      "provenance": [],
      "include_colab_link": true
    }
  },
  "nbformat": 4,
  "nbformat_minor": 0
}